{
 "cells": [
  {
   "attachments": {},
   "cell_type": "markdown",
   "metadata": {
    "slideshow": {
     "slide_type": "slide"
    },
    "tags": [
     "parameters"
    ]
   },
   "source": [
    "##                                                    CCC - NLP to SQL generator"
   ]
  },
  {
   "cell_type": "code",
   "execution_count": 3,
   "metadata": {},
   "outputs": [
    {
     "name": "stdout",
     "output_type": "stream",
     "text": [
      "Requirement already satisfied: pandas in c:\\users\\agaur8\\appdata\\local\\programs\\python\\python311\\lib\\site-packages (from -r requirements.txt (line 1)) (2.2.1)\n",
      "Requirement already satisfied: numpy in c:\\users\\agaur8\\appdata\\local\\programs\\python\\python311\\lib\\site-packages (from -r requirements.txt (line 2)) (1.26.4)\n",
      "Requirement already satisfied: streamlit in c:\\users\\agaur8\\appdata\\local\\programs\\python\\python311\\lib\\site-packages (from -r requirements.txt (line 3)) (1.32.2)\n",
      "Requirement already satisfied: openai in c:\\users\\agaur8\\appdata\\local\\programs\\python\\python311\\lib\\site-packages (from -r requirements.txt (line 4)) (1.14.1)\n",
      "Requirement already satisfied: langchain in c:\\users\\agaur8\\appdata\\local\\programs\\python\\python311\\lib\\site-packages (from -r requirements.txt (line 5)) (0.1.12)\n",
      "Requirement already satisfied: transformers in c:\\users\\agaur8\\appdata\\local\\programs\\python\\python311\\lib\\site-packages (from -r requirements.txt (line 6)) (4.38.2)\n",
      "Requirement already satisfied: langchain-openai in c:\\users\\agaur8\\appdata\\local\\programs\\python\\python311\\lib\\site-packages (from -r requirements.txt (line 7)) (0.0.8)\n",
      "Requirement already satisfied: python-dotenv in c:\\users\\agaur8\\appdata\\local\\programs\\python\\python311\\lib\\site-packages (from -r requirements.txt (line 8)) (1.0.1)\n",
      "Requirement already satisfied: torch in c:\\users\\agaur8\\appdata\\local\\programs\\python\\python311\\lib\\site-packages (from -r requirements.txt (line 9)) (2.2.1)\n",
      "Requirement already satisfied: langchain-community in c:\\users\\agaur8\\appdata\\local\\programs\\python\\python311\\lib\\site-packages (from -r requirements.txt (line 10)) (0.0.28)\n",
      "Requirement already satisfied: openpyxl in c:\\users\\agaur8\\appdata\\local\\programs\\python\\python311\\lib\\site-packages (from -r requirements.txt (line 11)) (3.1.2)\n",
      "Requirement already satisfied: python-dateutil>=2.8.2 in c:\\users\\agaur8\\appdata\\roaming\\python\\python311\\site-packages (from pandas->-r requirements.txt (line 1)) (2.8.2)\n",
      "Requirement already satisfied: pytz>=2020.1 in c:\\users\\agaur8\\appdata\\local\\programs\\python\\python311\\lib\\site-packages (from pandas->-r requirements.txt (line 1)) (2024.1)\n",
      "Requirement already satisfied: tzdata>=2022.7 in c:\\users\\agaur8\\appdata\\local\\programs\\python\\python311\\lib\\site-packages (from pandas->-r requirements.txt (line 1)) (2024.1)\n",
      "Requirement already satisfied: altair<6,>=4.0 in c:\\users\\agaur8\\appdata\\local\\programs\\python\\python311\\lib\\site-packages (from streamlit->-r requirements.txt (line 3)) (5.2.0)\n",
      "Requirement already satisfied: blinker<2,>=1.0.0 in c:\\users\\agaur8\\appdata\\local\\programs\\python\\python311\\lib\\site-packages (from streamlit->-r requirements.txt (line 3)) (1.7.0)\n",
      "Requirement already satisfied: cachetools<6,>=4.0 in c:\\users\\agaur8\\appdata\\local\\programs\\python\\python311\\lib\\site-packages (from streamlit->-r requirements.txt (line 3)) (5.3.3)\n",
      "Requirement already satisfied: click<9,>=7.0 in c:\\users\\agaur8\\appdata\\local\\programs\\python\\python311\\lib\\site-packages (from streamlit->-r requirements.txt (line 3)) (8.1.7)\n",
      "Requirement already satisfied: packaging<24,>=16.8 in c:\\users\\agaur8\\appdata\\local\\programs\\python\\python311\\lib\\site-packages (from streamlit->-r requirements.txt (line 3)) (23.2)\n",
      "Requirement already satisfied: pillow<11,>=7.1.0 in c:\\users\\agaur8\\appdata\\local\\programs\\python\\python311\\lib\\site-packages (from streamlit->-r requirements.txt (line 3)) (10.2.0)\n",
      "Requirement already satisfied: protobuf<5,>=3.20 in c:\\users\\agaur8\\appdata\\local\\programs\\python\\python311\\lib\\site-packages (from streamlit->-r requirements.txt (line 3)) (4.25.3)\n",
      "Requirement already satisfied: pyarrow>=7.0 in c:\\users\\agaur8\\appdata\\local\\programs\\python\\python311\\lib\\site-packages (from streamlit->-r requirements.txt (line 3)) (15.0.0)\n",
      "Requirement already satisfied: requests<3,>=2.27 in c:\\users\\agaur8\\appdata\\local\\programs\\python\\python311\\lib\\site-packages (from streamlit->-r requirements.txt (line 3)) (2.31.0)\n",
      "Requirement already satisfied: rich<14,>=10.14.0 in c:\\users\\agaur8\\appdata\\local\\programs\\python\\python311\\lib\\site-packages (from streamlit->-r requirements.txt (line 3)) (13.7.1)\n",
      "Requirement already satisfied: tenacity<9,>=8.1.0 in c:\\users\\agaur8\\appdata\\local\\programs\\python\\python311\\lib\\site-packages (from streamlit->-r requirements.txt (line 3)) (8.2.3)\n",
      "Requirement already satisfied: toml<2,>=0.10.1 in c:\\users\\agaur8\\appdata\\local\\programs\\python\\python311\\lib\\site-packages (from streamlit->-r requirements.txt (line 3)) (0.10.2)\n",
      "Requirement already satisfied: typing-extensions<5,>=4.3.0 in c:\\users\\agaur8\\appdata\\local\\programs\\python\\python311\\lib\\site-packages (from streamlit->-r requirements.txt (line 3)) (4.10.0)\n",
      "Requirement already satisfied: gitpython!=3.1.19,<4,>=3.0.7 in c:\\users\\agaur8\\appdata\\local\\programs\\python\\python311\\lib\\site-packages (from streamlit->-r requirements.txt (line 3)) (3.1.42)\n",
      "Requirement already satisfied: pydeck<1,>=0.8.0b4 in c:\\users\\agaur8\\appdata\\local\\programs\\python\\python311\\lib\\site-packages (from streamlit->-r requirements.txt (line 3)) (0.8.1b0)\n",
      "Requirement already satisfied: tornado<7,>=6.0.3 in c:\\users\\agaur8\\appdata\\roaming\\python\\python311\\site-packages (from streamlit->-r requirements.txt (line 3)) (6.3.2)\n",
      "Requirement already satisfied: watchdog>=2.1.5 in c:\\users\\agaur8\\appdata\\local\\programs\\python\\python311\\lib\\site-packages (from streamlit->-r requirements.txt (line 3)) (4.0.0)\n",
      "Requirement already satisfied: anyio<5,>=3.5.0 in c:\\users\\agaur8\\appdata\\local\\programs\\python\\python311\\lib\\site-packages (from openai->-r requirements.txt (line 4)) (4.3.0)\n",
      "Requirement already satisfied: distro<2,>=1.7.0 in c:\\users\\agaur8\\appdata\\local\\programs\\python\\python311\\lib\\site-packages (from openai->-r requirements.txt (line 4)) (1.9.0)\n",
      "Requirement already satisfied: httpx<1,>=0.23.0 in c:\\users\\agaur8\\appdata\\local\\programs\\python\\python311\\lib\\site-packages (from openai->-r requirements.txt (line 4)) (0.27.0)\n",
      "Requirement already satisfied: pydantic<3,>=1.9.0 in c:\\users\\agaur8\\appdata\\local\\programs\\python\\python311\\lib\\site-packages (from openai->-r requirements.txt (line 4)) (2.6.3)\n",
      "Requirement already satisfied: sniffio in c:\\users\\agaur8\\appdata\\local\\programs\\python\\python311\\lib\\site-packages (from openai->-r requirements.txt (line 4)) (1.3.1)\n",
      "Requirement already satisfied: tqdm>4 in c:\\users\\agaur8\\appdata\\local\\programs\\python\\python311\\lib\\site-packages (from openai->-r requirements.txt (line 4)) (4.66.2)\n",
      "Requirement already satisfied: PyYAML>=5.3 in c:\\users\\agaur8\\appdata\\local\\programs\\python\\python311\\lib\\site-packages (from langchain->-r requirements.txt (line 5)) (6.0.1)\n",
      "Requirement already satisfied: SQLAlchemy<3,>=1.4 in c:\\users\\agaur8\\appdata\\local\\programs\\python\\python311\\lib\\site-packages (from langchain->-r requirements.txt (line 5)) (2.0.27)\n",
      "Requirement already satisfied: aiohttp<4.0.0,>=3.8.3 in c:\\users\\agaur8\\appdata\\local\\programs\\python\\python311\\lib\\site-packages (from langchain->-r requirements.txt (line 5)) (3.9.3)\n",
      "Requirement already satisfied: dataclasses-json<0.7,>=0.5.7 in c:\\users\\agaur8\\appdata\\local\\programs\\python\\python311\\lib\\site-packages (from langchain->-r requirements.txt (line 5)) (0.6.4)\n",
      "Requirement already satisfied: jsonpatch<2.0,>=1.33 in c:\\users\\agaur8\\appdata\\local\\programs\\python\\python311\\lib\\site-packages (from langchain->-r requirements.txt (line 5)) (1.33)\n",
      "Requirement already satisfied: langchain-core<0.2.0,>=0.1.31 in c:\\users\\agaur8\\appdata\\local\\programs\\python\\python311\\lib\\site-packages (from langchain->-r requirements.txt (line 5)) (0.1.31)\n",
      "Requirement already satisfied: langchain-text-splitters<0.1,>=0.0.1 in c:\\users\\agaur8\\appdata\\local\\programs\\python\\python311\\lib\\site-packages (from langchain->-r requirements.txt (line 5)) (0.0.1)\n",
      "Requirement already satisfied: langsmith<0.2.0,>=0.1.17 in c:\\users\\agaur8\\appdata\\local\\programs\\python\\python311\\lib\\site-packages (from langchain->-r requirements.txt (line 5)) (0.1.23)\n",
      "Requirement already satisfied: filelock in c:\\users\\agaur8\\appdata\\local\\programs\\python\\python311\\lib\\site-packages (from transformers->-r requirements.txt (line 6)) (3.13.1)\n",
      "Requirement already satisfied: huggingface-hub<1.0,>=0.19.3 in c:\\users\\agaur8\\appdata\\local\\programs\\python\\python311\\lib\\site-packages (from transformers->-r requirements.txt (line 6)) (0.21.3)\n",
      "Requirement already satisfied: regex!=2019.12.17 in c:\\users\\agaur8\\appdata\\local\\programs\\python\\python311\\lib\\site-packages (from transformers->-r requirements.txt (line 6)) (2023.12.25)\n",
      "Requirement already satisfied: tokenizers<0.19,>=0.14 in c:\\users\\agaur8\\appdata\\local\\programs\\python\\python311\\lib\\site-packages (from transformers->-r requirements.txt (line 6)) (0.15.2)\n",
      "Requirement already satisfied: safetensors>=0.4.1 in c:\\users\\agaur8\\appdata\\local\\programs\\python\\python311\\lib\\site-packages (from transformers->-r requirements.txt (line 6)) (0.4.2)\n",
      "Requirement already satisfied: tiktoken<1,>=0.5.2 in c:\\users\\agaur8\\appdata\\local\\programs\\python\\python311\\lib\\site-packages (from langchain-openai->-r requirements.txt (line 7)) (0.6.0)\n",
      "Requirement already satisfied: sympy in c:\\users\\agaur8\\appdata\\local\\programs\\python\\python311\\lib\\site-packages (from torch->-r requirements.txt (line 9)) (1.12)\n",
      "Requirement already satisfied: networkx in c:\\users\\agaur8\\appdata\\local\\programs\\python\\python311\\lib\\site-packages (from torch->-r requirements.txt (line 9)) (3.2.1)\n",
      "Requirement already satisfied: jinja2 in c:\\users\\agaur8\\appdata\\local\\programs\\python\\python311\\lib\\site-packages (from torch->-r requirements.txt (line 9)) (3.1.3)\n",
      "Requirement already satisfied: fsspec in c:\\users\\agaur8\\appdata\\local\\programs\\python\\python311\\lib\\site-packages (from torch->-r requirements.txt (line 9)) (2024.2.0)\n",
      "Requirement already satisfied: et-xmlfile in c:\\users\\agaur8\\appdata\\local\\programs\\python\\python311\\lib\\site-packages (from openpyxl->-r requirements.txt (line 11)) (1.1.0)\n",
      "Requirement already satisfied: aiosignal>=1.1.2 in c:\\users\\agaur8\\appdata\\local\\programs\\python\\python311\\lib\\site-packages (from aiohttp<4.0.0,>=3.8.3->langchain->-r requirements.txt (line 5)) (1.3.1)\n",
      "Requirement already satisfied: attrs>=17.3.0 in c:\\users\\agaur8\\appdata\\local\\programs\\python\\python311\\lib\\site-packages (from aiohttp<4.0.0,>=3.8.3->langchain->-r requirements.txt (line 5)) (23.2.0)\n",
      "Requirement already satisfied: frozenlist>=1.1.1 in c:\\users\\agaur8\\appdata\\local\\programs\\python\\python311\\lib\\site-packages (from aiohttp<4.0.0,>=3.8.3->langchain->-r requirements.txt (line 5)) (1.4.1)\n",
      "Requirement already satisfied: multidict<7.0,>=4.5 in c:\\users\\agaur8\\appdata\\local\\programs\\python\\python311\\lib\\site-packages (from aiohttp<4.0.0,>=3.8.3->langchain->-r requirements.txt (line 5)) (6.0.5)\n",
      "Requirement already satisfied: yarl<2.0,>=1.0 in c:\\users\\agaur8\\appdata\\local\\programs\\python\\python311\\lib\\site-packages (from aiohttp<4.0.0,>=3.8.3->langchain->-r requirements.txt (line 5)) (1.9.4)\n",
      "Requirement already satisfied: jsonschema>=3.0 in c:\\users\\agaur8\\appdata\\local\\programs\\python\\python311\\lib\\site-packages (from altair<6,>=4.0->streamlit->-r requirements.txt (line 3)) (4.21.1)\n",
      "Requirement already satisfied: toolz in c:\\users\\agaur8\\appdata\\local\\programs\\python\\python311\\lib\\site-packages (from altair<6,>=4.0->streamlit->-r requirements.txt (line 3)) (0.12.1)\n",
      "Requirement already satisfied: idna>=2.8 in c:\\users\\agaur8\\appdata\\local\\programs\\python\\python311\\lib\\site-packages (from anyio<5,>=3.5.0->openai->-r requirements.txt (line 4)) (3.6)\n",
      "Requirement already satisfied: colorama in c:\\users\\agaur8\\appdata\\roaming\\python\\python311\\site-packages (from click<9,>=7.0->streamlit->-r requirements.txt (line 3)) (0.4.6)\n",
      "Requirement already satisfied: marshmallow<4.0.0,>=3.18.0 in c:\\users\\agaur8\\appdata\\local\\programs\\python\\python311\\lib\\site-packages (from dataclasses-json<0.7,>=0.5.7->langchain->-r requirements.txt (line 5)) (3.21.0)\n",
      "Requirement already satisfied: typing-inspect<1,>=0.4.0 in c:\\users\\agaur8\\appdata\\local\\programs\\python\\python311\\lib\\site-packages (from dataclasses-json<0.7,>=0.5.7->langchain->-r requirements.txt (line 5)) (0.9.0)\n",
      "Requirement already satisfied: gitdb<5,>=4.0.1 in c:\\users\\agaur8\\appdata\\local\\programs\\python\\python311\\lib\\site-packages (from gitpython!=3.1.19,<4,>=3.0.7->streamlit->-r requirements.txt (line 3)) (4.0.11)\n",
      "Requirement already satisfied: certifi in c:\\users\\agaur8\\appdata\\local\\programs\\python\\python311\\lib\\site-packages (from httpx<1,>=0.23.0->openai->-r requirements.txt (line 4)) (2024.2.2)\n",
      "Requirement already satisfied: httpcore==1.* in c:\\users\\agaur8\\appdata\\local\\programs\\python\\python311\\lib\\site-packages (from httpx<1,>=0.23.0->openai->-r requirements.txt (line 4)) (1.0.4)\n",
      "Requirement already satisfied: h11<0.15,>=0.13 in c:\\users\\agaur8\\appdata\\local\\programs\\python\\python311\\lib\\site-packages (from httpcore==1.*->httpx<1,>=0.23.0->openai->-r requirements.txt (line 4)) (0.14.0)\n",
      "Requirement already satisfied: jsonpointer>=1.9 in c:\\users\\agaur8\\appdata\\local\\programs\\python\\python311\\lib\\site-packages (from jsonpatch<2.0,>=1.33->langchain->-r requirements.txt (line 5)) (2.4)\n",
      "Requirement already satisfied: orjson<4.0.0,>=3.9.14 in c:\\users\\agaur8\\appdata\\local\\programs\\python\\python311\\lib\\site-packages (from langsmith<0.2.0,>=0.1.17->langchain->-r requirements.txt (line 5)) (3.9.15)\n",
      "Requirement already satisfied: annotated-types>=0.4.0 in c:\\users\\agaur8\\appdata\\local\\programs\\python\\python311\\lib\\site-packages (from pydantic<3,>=1.9.0->openai->-r requirements.txt (line 4)) (0.6.0)\n",
      "Requirement already satisfied: pydantic-core==2.16.3 in c:\\users\\agaur8\\appdata\\local\\programs\\python\\python311\\lib\\site-packages (from pydantic<3,>=1.9.0->openai->-r requirements.txt (line 4)) (2.16.3)\n",
      "Requirement already satisfied: MarkupSafe>=2.0 in c:\\users\\agaur8\\appdata\\local\\programs\\python\\python311\\lib\\site-packages (from jinja2->torch->-r requirements.txt (line 9)) (2.1.5)\n",
      "Requirement already satisfied: six>=1.5 in c:\\users\\agaur8\\appdata\\roaming\\python\\python311\\site-packages (from python-dateutil>=2.8.2->pandas->-r requirements.txt (line 1)) (1.16.0)\n",
      "Requirement already satisfied: charset-normalizer<4,>=2 in c:\\users\\agaur8\\appdata\\local\\programs\\python\\python311\\lib\\site-packages (from requests<3,>=2.27->streamlit->-r requirements.txt (line 3)) (3.3.2)\n",
      "Requirement already satisfied: urllib3<3,>=1.21.1 in c:\\users\\agaur8\\appdata\\local\\programs\\python\\python311\\lib\\site-packages (from requests<3,>=2.27->streamlit->-r requirements.txt (line 3)) (2.2.1)\n",
      "Requirement already satisfied: markdown-it-py>=2.2.0 in c:\\users\\agaur8\\appdata\\local\\programs\\python\\python311\\lib\\site-packages (from rich<14,>=10.14.0->streamlit->-r requirements.txt (line 3)) (3.0.0)\n",
      "Requirement already satisfied: pygments<3.0.0,>=2.13.0 in c:\\users\\agaur8\\appdata\\roaming\\python\\python311\\site-packages (from rich<14,>=10.14.0->streamlit->-r requirements.txt (line 3)) (2.15.1)\n",
      "Requirement already satisfied: greenlet!=0.4.17 in c:\\users\\agaur8\\appdata\\local\\programs\\python\\python311\\lib\\site-packages (from SQLAlchemy<3,>=1.4->langchain->-r requirements.txt (line 5)) (3.0.3)\n",
      "Requirement already satisfied: mpmath>=0.19 in c:\\users\\agaur8\\appdata\\local\\programs\\python\\python311\\lib\\site-packages (from sympy->torch->-r requirements.txt (line 9)) (1.3.0)\n",
      "Requirement already satisfied: smmap<6,>=3.0.1 in c:\\users\\agaur8\\appdata\\local\\programs\\python\\python311\\lib\\site-packages (from gitdb<5,>=4.0.1->gitpython!=3.1.19,<4,>=3.0.7->streamlit->-r requirements.txt (line 3)) (5.0.1)\n",
      "Requirement already satisfied: jsonschema-specifications>=2023.03.6 in c:\\users\\agaur8\\appdata\\local\\programs\\python\\python311\\lib\\site-packages (from jsonschema>=3.0->altair<6,>=4.0->streamlit->-r requirements.txt (line 3)) (2023.12.1)\n",
      "Requirement already satisfied: referencing>=0.28.4 in c:\\users\\agaur8\\appdata\\local\\programs\\python\\python311\\lib\\site-packages (from jsonschema>=3.0->altair<6,>=4.0->streamlit->-r requirements.txt (line 3)) (0.33.0)\n",
      "Requirement already satisfied: rpds-py>=0.7.1 in c:\\users\\agaur8\\appdata\\local\\programs\\python\\python311\\lib\\site-packages (from jsonschema>=3.0->altair<6,>=4.0->streamlit->-r requirements.txt (line 3)) (0.18.0)\n",
      "Requirement already satisfied: mdurl~=0.1 in c:\\users\\agaur8\\appdata\\local\\programs\\python\\python311\\lib\\site-packages (from markdown-it-py>=2.2.0->rich<14,>=10.14.0->streamlit->-r requirements.txt (line 3)) (0.1.2)\n",
      "Requirement already satisfied: mypy-extensions>=0.3.0 in c:\\users\\agaur8\\appdata\\local\\programs\\python\\python311\\lib\\site-packages (from typing-inspect<1,>=0.4.0->dataclasses-json<0.7,>=0.5.7->langchain->-r requirements.txt (line 5)) (1.0.0)\n",
      "Note: you may need to restart the kernel to use updated packages.\n"
     ]
    }
   ],
   "source": [
    "pip install --upgrade -r requirements.txt"
   ]
  },
  {
   "cell_type": "code",
   "execution_count": 4,
   "metadata": {},
   "outputs": [
    {
     "name": "stdout",
     "output_type": "stream",
     "text": [
      "Requirement already satisfied: arize-phoenix in c:\\users\\agaur8\\appdata\\local\\programs\\python\\python311\\lib\\site-packages (3.13.1)\n",
      "Requirement already satisfied: ddsketch in c:\\users\\agaur8\\appdata\\local\\programs\\python\\python311\\lib\\site-packages (from arize-phoenix) (2.0.4)\n",
      "Requirement already satisfied: hdbscan<1.0.0,>=0.8.33 in c:\\users\\agaur8\\appdata\\local\\programs\\python\\python311\\lib\\site-packages (from arize-phoenix) (0.8.33)\n",
      "Requirement already satisfied: jinja2 in c:\\users\\agaur8\\appdata\\local\\programs\\python\\python311\\lib\\site-packages (from arize-phoenix) (3.1.3)\n",
      "Requirement already satisfied: numpy in c:\\users\\agaur8\\appdata\\local\\programs\\python\\python311\\lib\\site-packages (from arize-phoenix) (1.26.4)\n",
      "Requirement already satisfied: openinference-instrumentation-langchain>=0.1.12 in c:\\users\\agaur8\\appdata\\local\\programs\\python\\python311\\lib\\site-packages (from arize-phoenix) (0.1.12)\n",
      "Requirement already satisfied: openinference-instrumentation-llama-index>=1.2.0 in c:\\users\\agaur8\\appdata\\local\\programs\\python\\python311\\lib\\site-packages (from arize-phoenix) (1.2.0)\n",
      "Requirement already satisfied: openinference-instrumentation-openai>=0.1.4 in c:\\users\\agaur8\\appdata\\local\\programs\\python\\python311\\lib\\site-packages (from arize-phoenix) (0.1.4)\n",
      "Requirement already satisfied: openinference-semantic-conventions>=0.1.5 in c:\\users\\agaur8\\appdata\\local\\programs\\python\\python311\\lib\\site-packages (from arize-phoenix) (0.1.5)\n",
      "Requirement already satisfied: opentelemetry-exporter-otlp in c:\\users\\agaur8\\appdata\\local\\programs\\python\\python311\\lib\\site-packages (from arize-phoenix) (1.23.0)\n",
      "Requirement already satisfied: opentelemetry-proto in c:\\users\\agaur8\\appdata\\local\\programs\\python\\python311\\lib\\site-packages (from arize-phoenix) (1.23.0)\n",
      "Requirement already satisfied: opentelemetry-sdk in c:\\users\\agaur8\\appdata\\local\\programs\\python\\python311\\lib\\site-packages (from arize-phoenix) (1.23.0)\n",
      "Requirement already satisfied: pandas in c:\\users\\agaur8\\appdata\\local\\programs\\python\\python311\\lib\\site-packages (from arize-phoenix) (2.2.1)\n",
      "Requirement already satisfied: protobuf<5.0,>=3.20 in c:\\users\\agaur8\\appdata\\local\\programs\\python\\python311\\lib\\site-packages (from arize-phoenix) (4.25.3)\n",
      "Requirement already satisfied: psutil in c:\\users\\agaur8\\appdata\\roaming\\python\\python311\\site-packages (from arize-phoenix) (5.9.5)\n",
      "Requirement already satisfied: pyarrow in c:\\users\\agaur8\\appdata\\local\\programs\\python\\python311\\lib\\site-packages (from arize-phoenix) (15.0.0)\n",
      "Requirement already satisfied: requests in c:\\users\\agaur8\\appdata\\local\\programs\\python\\python311\\lib\\site-packages (from arize-phoenix) (2.31.0)\n",
      "Requirement already satisfied: scikit-learn<1.3.0 in c:\\users\\agaur8\\appdata\\local\\programs\\python\\python311\\lib\\site-packages (from arize-phoenix) (1.2.2)\n",
      "Requirement already satisfied: scipy in c:\\users\\agaur8\\appdata\\local\\programs\\python\\python311\\lib\\site-packages (from arize-phoenix) (1.12.0)\n",
      "Requirement already satisfied: sortedcontainers in c:\\users\\agaur8\\appdata\\local\\programs\\python\\python311\\lib\\site-packages (from arize-phoenix) (2.4.0)\n",
      "Requirement already satisfied: starlette in c:\\users\\agaur8\\appdata\\local\\programs\\python\\python311\\lib\\site-packages (from arize-phoenix) (0.37.2)\n",
      "Requirement already satisfied: strawberry-graphql==0.208.2 in c:\\users\\agaur8\\appdata\\local\\programs\\python\\python311\\lib\\site-packages (from arize-phoenix) (0.208.2)\n",
      "Requirement already satisfied: tqdm in c:\\users\\agaur8\\appdata\\local\\programs\\python\\python311\\lib\\site-packages (from arize-phoenix) (4.66.2)\n",
      "Requirement already satisfied: typing-extensions<5,>=4.5 in c:\\users\\agaur8\\appdata\\local\\programs\\python\\python311\\lib\\site-packages (from arize-phoenix) (4.10.0)\n",
      "Requirement already satisfied: umap-learn in c:\\users\\agaur8\\appdata\\local\\programs\\python\\python311\\lib\\site-packages (from arize-phoenix) (0.5.5)\n",
      "Requirement already satisfied: uvicorn in c:\\users\\agaur8\\appdata\\local\\programs\\python\\python311\\lib\\site-packages (from arize-phoenix) (0.28.0)\n",
      "Requirement already satisfied: wrapt in c:\\users\\agaur8\\appdata\\local\\programs\\python\\python311\\lib\\site-packages (from arize-phoenix) (1.16.0)\n",
      "Requirement already satisfied: graphql-core<3.3.0,>=3.2.0 in c:\\users\\agaur8\\appdata\\local\\programs\\python\\python311\\lib\\site-packages (from strawberry-graphql==0.208.2->arize-phoenix) (3.2.3)\n",
      "Requirement already satisfied: python-dateutil<3.0.0,>=2.7.0 in c:\\users\\agaur8\\appdata\\roaming\\python\\python311\\site-packages (from strawberry-graphql==0.208.2->arize-phoenix) (2.8.2)\n",
      "Requirement already satisfied: cython<3,>=0.27 in c:\\users\\agaur8\\appdata\\local\\programs\\python\\python311\\lib\\site-packages (from hdbscan<1.0.0,>=0.8.33->arize-phoenix) (0.29.37)\n",
      "Requirement already satisfied: joblib>=1.0 in c:\\users\\agaur8\\appdata\\local\\programs\\python\\python311\\lib\\site-packages (from hdbscan<1.0.0,>=0.8.33->arize-phoenix) (1.3.2)\n",
      "Requirement already satisfied: opentelemetry-api in c:\\users\\agaur8\\appdata\\local\\programs\\python\\python311\\lib\\site-packages (from openinference-instrumentation-langchain>=0.1.12->arize-phoenix) (1.23.0)\n",
      "Requirement already satisfied: opentelemetry-instrumentation in c:\\users\\agaur8\\appdata\\local\\programs\\python\\python311\\lib\\site-packages (from openinference-instrumentation-langchain>=0.1.12->arize-phoenix) (0.44b0)\n",
      "Requirement already satisfied: opentelemetry-semantic-conventions in c:\\users\\agaur8\\appdata\\local\\programs\\python\\python311\\lib\\site-packages (from openinference-instrumentation-langchain>=0.1.12->arize-phoenix) (0.44b0)\n",
      "Requirement already satisfied: threadpoolctl>=2.0.0 in c:\\users\\agaur8\\appdata\\local\\programs\\python\\python311\\lib\\site-packages (from scikit-learn<1.3.0->arize-phoenix) (3.3.0)\n",
      "Requirement already satisfied: six in c:\\users\\agaur8\\appdata\\roaming\\python\\python311\\site-packages (from ddsketch->arize-phoenix) (1.16.0)\n",
      "Requirement already satisfied: MarkupSafe>=2.0 in c:\\users\\agaur8\\appdata\\local\\programs\\python\\python311\\lib\\site-packages (from jinja2->arize-phoenix) (2.1.5)\n",
      "Requirement already satisfied: opentelemetry-exporter-otlp-proto-grpc==1.23.0 in c:\\users\\agaur8\\appdata\\local\\programs\\python\\python311\\lib\\site-packages (from opentelemetry-exporter-otlp->arize-phoenix) (1.23.0)\n",
      "Requirement already satisfied: opentelemetry-exporter-otlp-proto-http==1.23.0 in c:\\users\\agaur8\\appdata\\local\\programs\\python\\python311\\lib\\site-packages (from opentelemetry-exporter-otlp->arize-phoenix) (1.23.0)\n",
      "Requirement already satisfied: deprecated>=1.2.6 in c:\\users\\agaur8\\appdata\\local\\programs\\python\\python311\\lib\\site-packages (from opentelemetry-exporter-otlp-proto-grpc==1.23.0->opentelemetry-exporter-otlp->arize-phoenix) (1.2.14)\n",
      "Requirement already satisfied: googleapis-common-protos~=1.52 in c:\\users\\agaur8\\appdata\\local\\programs\\python\\python311\\lib\\site-packages (from opentelemetry-exporter-otlp-proto-grpc==1.23.0->opentelemetry-exporter-otlp->arize-phoenix) (1.63.0)\n",
      "Requirement already satisfied: grpcio<2.0.0,>=1.0.0 in c:\\users\\agaur8\\appdata\\local\\programs\\python\\python311\\lib\\site-packages (from opentelemetry-exporter-otlp-proto-grpc==1.23.0->opentelemetry-exporter-otlp->arize-phoenix) (1.62.1)\n",
      "Requirement already satisfied: opentelemetry-exporter-otlp-proto-common==1.23.0 in c:\\users\\agaur8\\appdata\\local\\programs\\python\\python311\\lib\\site-packages (from opentelemetry-exporter-otlp-proto-grpc==1.23.0->opentelemetry-exporter-otlp->arize-phoenix) (1.23.0)\n",
      "Requirement already satisfied: importlib-metadata<7.0,>=6.0 in c:\\users\\agaur8\\appdata\\local\\programs\\python\\python311\\lib\\site-packages (from opentelemetry-api->openinference-instrumentation-langchain>=0.1.12->arize-phoenix) (6.11.0)\n",
      "Requirement already satisfied: charset-normalizer<4,>=2 in c:\\users\\agaur8\\appdata\\local\\programs\\python\\python311\\lib\\site-packages (from requests->arize-phoenix) (3.3.2)\n",
      "Requirement already satisfied: idna<4,>=2.5 in c:\\users\\agaur8\\appdata\\local\\programs\\python\\python311\\lib\\site-packages (from requests->arize-phoenix) (3.6)\n",
      "Requirement already satisfied: urllib3<3,>=1.21.1 in c:\\users\\agaur8\\appdata\\local\\programs\\python\\python311\\lib\\site-packages (from requests->arize-phoenix) (2.2.1)\n",
      "Requirement already satisfied: certifi>=2017.4.17 in c:\\users\\agaur8\\appdata\\local\\programs\\python\\python311\\lib\\site-packages (from requests->arize-phoenix) (2024.2.2)\n",
      "Requirement already satisfied: pytz>=2020.1 in c:\\users\\agaur8\\appdata\\local\\programs\\python\\python311\\lib\\site-packages (from pandas->arize-phoenix) (2024.1)\n",
      "Requirement already satisfied: tzdata>=2022.7 in c:\\users\\agaur8\\appdata\\local\\programs\\python\\python311\\lib\\site-packages (from pandas->arize-phoenix) (2024.1)\n",
      "Requirement already satisfied: anyio<5,>=3.4.0 in c:\\users\\agaur8\\appdata\\local\\programs\\python\\python311\\lib\\site-packages (from starlette->arize-phoenix) (4.3.0)\n",
      "Requirement already satisfied: colorama in c:\\users\\agaur8\\appdata\\roaming\\python\\python311\\site-packages (from tqdm->arize-phoenix) (0.4.6)\n",
      "Requirement already satisfied: numba>=0.51.2 in c:\\users\\agaur8\\appdata\\local\\programs\\python\\python311\\lib\\site-packages (from umap-learn->arize-phoenix) (0.59.0)\n",
      "Requirement already satisfied: pynndescent>=0.5 in c:\\users\\agaur8\\appdata\\local\\programs\\python\\python311\\lib\\site-packages (from umap-learn->arize-phoenix) (0.5.11)\n",
      "Requirement already satisfied: click>=7.0 in c:\\users\\agaur8\\appdata\\local\\programs\\python\\python311\\lib\\site-packages (from uvicorn->arize-phoenix) (8.1.7)\n",
      "Requirement already satisfied: h11>=0.8 in c:\\users\\agaur8\\appdata\\local\\programs\\python\\python311\\lib\\site-packages (from uvicorn->arize-phoenix) (0.14.0)\n",
      "Requirement already satisfied: sniffio>=1.1 in c:\\users\\agaur8\\appdata\\local\\programs\\python\\python311\\lib\\site-packages (from anyio<5,>=3.4.0->starlette->arize-phoenix) (1.3.1)\n",
      "Requirement already satisfied: llvmlite<0.43,>=0.42.0dev0 in c:\\users\\agaur8\\appdata\\local\\programs\\python\\python311\\lib\\site-packages (from numba>=0.51.2->umap-learn->arize-phoenix) (0.42.0)\n",
      "Requirement already satisfied: setuptools>=16.0 in c:\\users\\agaur8\\appdata\\local\\programs\\python\\python311\\lib\\site-packages (from opentelemetry-instrumentation->openinference-instrumentation-langchain>=0.1.12->arize-phoenix) (69.2.0)\n",
      "Requirement already satisfied: zipp>=0.5 in c:\\users\\agaur8\\appdata\\local\\programs\\python\\python311\\lib\\site-packages (from importlib-metadata<7.0,>=6.0->opentelemetry-api->openinference-instrumentation-langchain>=0.1.12->arize-phoenix) (3.17.0)\n"
     ]
    }
   ],
   "source": [
    "!pip install arize-phoenix"
   ]
  },
  {
   "cell_type": "code",
   "execution_count": 5,
   "metadata": {},
   "outputs": [
    {
     "name": "stdout",
     "output_type": "stream",
     "text": [
      "Requirement already satisfied: openai>=1 in c:\\users\\agaur8\\appdata\\local\\programs\\python\\python311\\lib\\site-packages (1.14.1)\n",
      "Requirement already satisfied: gcsfs in c:\\users\\agaur8\\appdata\\local\\programs\\python\\python311\\lib\\site-packages (2024.2.0)\n",
      "Requirement already satisfied: nest-asyncio in c:\\users\\agaur8\\appdata\\local\\programs\\python\\python311\\lib\\site-packages (1.6.0)\n",
      "Requirement already satisfied: llama-index>=0.10.3 in c:\\users\\agaur8\\appdata\\local\\programs\\python\\python311\\lib\\site-packages (0.10.19)\n",
      "Requirement already satisfied: llama-index-core in c:\\users\\agaur8\\appdata\\local\\programs\\python\\python311\\lib\\site-packages (0.10.19)\n",
      "Requirement already satisfied: openinference-instrumentation-llama-index>=1.0.0 in c:\\users\\agaur8\\appdata\\local\\programs\\python\\python311\\lib\\site-packages (1.2.0)\n",
      "Requirement already satisfied: llama-index-callbacks-arize-phoenix>=0.1.2 in c:\\users\\agaur8\\appdata\\local\\programs\\python\\python311\\lib\\site-packages (0.1.4)\n",
      "Requirement already satisfied: llama-index-readers-wikipedia in c:\\users\\agaur8\\appdata\\local\\programs\\python\\python311\\lib\\site-packages (0.1.3)\n",
      "Requirement already satisfied: sqlalchemy in c:\\users\\agaur8\\appdata\\local\\programs\\python\\python311\\lib\\site-packages (2.0.27)\n",
      "Requirement already satisfied: wikipedia in c:\\users\\agaur8\\appdata\\local\\programs\\python\\python311\\lib\\site-packages (1.4.0)\n",
      "Requirement already satisfied: arize-phoenix[evals] in c:\\users\\agaur8\\appdata\\local\\programs\\python\\python311\\lib\\site-packages (3.13.1)\n",
      "Requirement already satisfied: ddsketch in c:\\users\\agaur8\\appdata\\local\\programs\\python\\python311\\lib\\site-packages (from arize-phoenix[evals]) (2.0.4)\n",
      "Requirement already satisfied: hdbscan<1.0.0,>=0.8.33 in c:\\users\\agaur8\\appdata\\local\\programs\\python\\python311\\lib\\site-packages (from arize-phoenix[evals]) (0.8.33)\n",
      "Requirement already satisfied: jinja2 in c:\\users\\agaur8\\appdata\\local\\programs\\python\\python311\\lib\\site-packages (from arize-phoenix[evals]) (3.1.3)\n",
      "Requirement already satisfied: numpy in c:\\users\\agaur8\\appdata\\local\\programs\\python\\python311\\lib\\site-packages (from arize-phoenix[evals]) (1.26.4)\n",
      "Requirement already satisfied: openinference-instrumentation-langchain>=0.1.12 in c:\\users\\agaur8\\appdata\\local\\programs\\python\\python311\\lib\\site-packages (from arize-phoenix[evals]) (0.1.12)\n",
      "Requirement already satisfied: openinference-instrumentation-openai>=0.1.4 in c:\\users\\agaur8\\appdata\\local\\programs\\python\\python311\\lib\\site-packages (from arize-phoenix[evals]) (0.1.4)\n",
      "Requirement already satisfied: openinference-semantic-conventions>=0.1.5 in c:\\users\\agaur8\\appdata\\local\\programs\\python\\python311\\lib\\site-packages (from arize-phoenix[evals]) (0.1.5)\n",
      "Requirement already satisfied: opentelemetry-exporter-otlp in c:\\users\\agaur8\\appdata\\local\\programs\\python\\python311\\lib\\site-packages (from arize-phoenix[evals]) (1.23.0)\n",
      "Requirement already satisfied: opentelemetry-proto in c:\\users\\agaur8\\appdata\\local\\programs\\python\\python311\\lib\\site-packages (from arize-phoenix[evals]) (1.23.0)\n",
      "Requirement already satisfied: opentelemetry-sdk in c:\\users\\agaur8\\appdata\\local\\programs\\python\\python311\\lib\\site-packages (from arize-phoenix[evals]) (1.23.0)\n",
      "Requirement already satisfied: pandas in c:\\users\\agaur8\\appdata\\local\\programs\\python\\python311\\lib\\site-packages (from arize-phoenix[evals]) (2.2.1)\n",
      "Requirement already satisfied: protobuf<5.0,>=3.20 in c:\\users\\agaur8\\appdata\\local\\programs\\python\\python311\\lib\\site-packages (from arize-phoenix[evals]) (4.25.3)\n",
      "Requirement already satisfied: psutil in c:\\users\\agaur8\\appdata\\roaming\\python\\python311\\site-packages (from arize-phoenix[evals]) (5.9.5)\n",
      "Requirement already satisfied: pyarrow in c:\\users\\agaur8\\appdata\\local\\programs\\python\\python311\\lib\\site-packages (from arize-phoenix[evals]) (15.0.0)\n",
      "Requirement already satisfied: requests in c:\\users\\agaur8\\appdata\\local\\programs\\python\\python311\\lib\\site-packages (from arize-phoenix[evals]) (2.31.0)\n",
      "Requirement already satisfied: scikit-learn<1.3.0 in c:\\users\\agaur8\\appdata\\local\\programs\\python\\python311\\lib\\site-packages (from arize-phoenix[evals]) (1.2.2)\n",
      "Requirement already satisfied: scipy in c:\\users\\agaur8\\appdata\\local\\programs\\python\\python311\\lib\\site-packages (from arize-phoenix[evals]) (1.12.0)\n",
      "Requirement already satisfied: sortedcontainers in c:\\users\\agaur8\\appdata\\local\\programs\\python\\python311\\lib\\site-packages (from arize-phoenix[evals]) (2.4.0)\n",
      "Requirement already satisfied: starlette in c:\\users\\agaur8\\appdata\\local\\programs\\python\\python311\\lib\\site-packages (from arize-phoenix[evals]) (0.37.2)\n",
      "Requirement already satisfied: strawberry-graphql==0.208.2 in c:\\users\\agaur8\\appdata\\local\\programs\\python\\python311\\lib\\site-packages (from arize-phoenix[evals]) (0.208.2)\n",
      "Requirement already satisfied: tqdm in c:\\users\\agaur8\\appdata\\local\\programs\\python\\python311\\lib\\site-packages (from arize-phoenix[evals]) (4.66.2)\n",
      "Requirement already satisfied: typing-extensions<5,>=4.5 in c:\\users\\agaur8\\appdata\\local\\programs\\python\\python311\\lib\\site-packages (from arize-phoenix[evals]) (4.10.0)\n",
      "Requirement already satisfied: umap-learn in c:\\users\\agaur8\\appdata\\local\\programs\\python\\python311\\lib\\site-packages (from arize-phoenix[evals]) (0.5.5)\n",
      "Requirement already satisfied: uvicorn in c:\\users\\agaur8\\appdata\\local\\programs\\python\\python311\\lib\\site-packages (from arize-phoenix[evals]) (0.28.0)\n",
      "Requirement already satisfied: wrapt in c:\\users\\agaur8\\appdata\\local\\programs\\python\\python311\\lib\\site-packages (from arize-phoenix[evals]) (1.16.0)\n",
      "Requirement already satisfied: arize-phoenix-evals>=0.3.0 in c:\\users\\agaur8\\appdata\\local\\programs\\python\\python311\\lib\\site-packages (from arize-phoenix[evals]) (0.3.0)\n",
      "Requirement already satisfied: graphql-core<3.3.0,>=3.2.0 in c:\\users\\agaur8\\appdata\\local\\programs\\python\\python311\\lib\\site-packages (from strawberry-graphql==0.208.2->arize-phoenix[evals]) (3.2.3)\n",
      "Requirement already satisfied: python-dateutil<3.0.0,>=2.7.0 in c:\\users\\agaur8\\appdata\\roaming\\python\\python311\\site-packages (from strawberry-graphql==0.208.2->arize-phoenix[evals]) (2.8.2)\n",
      "Requirement already satisfied: anyio<5,>=3.5.0 in c:\\users\\agaur8\\appdata\\local\\programs\\python\\python311\\lib\\site-packages (from openai>=1) (4.3.0)\n",
      "Requirement already satisfied: distro<2,>=1.7.0 in c:\\users\\agaur8\\appdata\\local\\programs\\python\\python311\\lib\\site-packages (from openai>=1) (1.9.0)\n",
      "Requirement already satisfied: httpx<1,>=0.23.0 in c:\\users\\agaur8\\appdata\\local\\programs\\python\\python311\\lib\\site-packages (from openai>=1) (0.27.0)\n",
      "Requirement already satisfied: pydantic<3,>=1.9.0 in c:\\users\\agaur8\\appdata\\local\\programs\\python\\python311\\lib\\site-packages (from openai>=1) (2.6.3)\n",
      "Requirement already satisfied: sniffio in c:\\users\\agaur8\\appdata\\local\\programs\\python\\python311\\lib\\site-packages (from openai>=1) (1.3.1)\n",
      "Requirement already satisfied: aiohttp!=4.0.0a0,!=4.0.0a1 in c:\\users\\agaur8\\appdata\\local\\programs\\python\\python311\\lib\\site-packages (from gcsfs) (3.9.3)\n",
      "Requirement already satisfied: decorator>4.1.2 in c:\\users\\agaur8\\appdata\\roaming\\python\\python311\\site-packages (from gcsfs) (5.1.1)\n",
      "Requirement already satisfied: fsspec==2024.2.0 in c:\\users\\agaur8\\appdata\\local\\programs\\python\\python311\\lib\\site-packages (from gcsfs) (2024.2.0)\n",
      "Requirement already satisfied: google-auth>=1.2 in c:\\users\\agaur8\\appdata\\local\\programs\\python\\python311\\lib\\site-packages (from gcsfs) (2.28.2)\n",
      "Requirement already satisfied: google-auth-oauthlib in c:\\users\\agaur8\\appdata\\local\\programs\\python\\python311\\lib\\site-packages (from gcsfs) (1.2.0)\n",
      "Requirement already satisfied: google-cloud-storage in c:\\users\\agaur8\\appdata\\local\\programs\\python\\python311\\lib\\site-packages (from gcsfs) (2.15.0)\n",
      "Requirement already satisfied: llama-index-agent-openai<0.2.0,>=0.1.4 in c:\\users\\agaur8\\appdata\\local\\programs\\python\\python311\\lib\\site-packages (from llama-index>=0.10.3) (0.1.5)\n",
      "Requirement already satisfied: llama-index-cli<0.2.0,>=0.1.2 in c:\\users\\agaur8\\appdata\\local\\programs\\python\\python311\\lib\\site-packages (from llama-index>=0.10.3) (0.1.9)\n",
      "Requirement already satisfied: llama-index-embeddings-openai<0.2.0,>=0.1.5 in c:\\users\\agaur8\\appdata\\local\\programs\\python\\python311\\lib\\site-packages (from llama-index>=0.10.3) (0.1.6)\n",
      "Requirement already satisfied: llama-index-indices-managed-llama-cloud<0.2.0,>=0.1.2 in c:\\users\\agaur8\\appdata\\local\\programs\\python\\python311\\lib\\site-packages (from llama-index>=0.10.3) (0.1.4)\n",
      "Requirement already satisfied: llama-index-legacy<0.10.0,>=0.9.48 in c:\\users\\agaur8\\appdata\\local\\programs\\python\\python311\\lib\\site-packages (from llama-index>=0.10.3) (0.9.48)\n",
      "Requirement already satisfied: llama-index-llms-openai<0.2.0,>=0.1.5 in c:\\users\\agaur8\\appdata\\local\\programs\\python\\python311\\lib\\site-packages (from llama-index>=0.10.3) (0.1.9)\n",
      "Requirement already satisfied: llama-index-multi-modal-llms-openai<0.2.0,>=0.1.3 in c:\\users\\agaur8\\appdata\\local\\programs\\python\\python311\\lib\\site-packages (from llama-index>=0.10.3) (0.1.4)\n",
      "Requirement already satisfied: llama-index-program-openai<0.2.0,>=0.1.3 in c:\\users\\agaur8\\appdata\\local\\programs\\python\\python311\\lib\\site-packages (from llama-index>=0.10.3) (0.1.4)\n",
      "Requirement already satisfied: llama-index-question-gen-openai<0.2.0,>=0.1.2 in c:\\users\\agaur8\\appdata\\local\\programs\\python\\python311\\lib\\site-packages (from llama-index>=0.10.3) (0.1.3)\n",
      "Requirement already satisfied: llama-index-readers-file<0.2.0,>=0.1.4 in c:\\users\\agaur8\\appdata\\local\\programs\\python\\python311\\lib\\site-packages (from llama-index>=0.10.3) (0.1.9)\n",
      "Requirement already satisfied: llama-index-readers-llama-parse<0.2.0,>=0.1.2 in c:\\users\\agaur8\\appdata\\local\\programs\\python\\python311\\lib\\site-packages (from llama-index>=0.10.3) (0.1.3)\n",
      "Requirement already satisfied: PyYAML>=6.0.1 in c:\\users\\agaur8\\appdata\\local\\programs\\python\\python311\\lib\\site-packages (from llama-index-core) (6.0.1)\n",
      "Requirement already satisfied: dataclasses-json in c:\\users\\agaur8\\appdata\\local\\programs\\python\\python311\\lib\\site-packages (from llama-index-core) (0.6.4)\n",
      "Requirement already satisfied: deprecated>=1.2.9.3 in c:\\users\\agaur8\\appdata\\local\\programs\\python\\python311\\lib\\site-packages (from llama-index-core) (1.2.14)\n",
      "Requirement already satisfied: dirtyjson<2.0.0,>=1.0.8 in c:\\users\\agaur8\\appdata\\local\\programs\\python\\python311\\lib\\site-packages (from llama-index-core) (1.0.8)\n",
      "Requirement already satisfied: llamaindex-py-client<0.2.0,>=0.1.13 in c:\\users\\agaur8\\appdata\\local\\programs\\python\\python311\\lib\\site-packages (from llama-index-core) (0.1.13)\n",
      "Requirement already satisfied: networkx>=3.0 in c:\\users\\agaur8\\appdata\\local\\programs\\python\\python311\\lib\\site-packages (from llama-index-core) (3.2.1)\n",
      "Requirement already satisfied: nltk<4.0.0,>=3.8.1 in c:\\users\\agaur8\\appdata\\local\\programs\\python\\python311\\lib\\site-packages (from llama-index-core) (3.8.1)\n",
      "Requirement already satisfied: pillow>=9.0.0 in c:\\users\\agaur8\\appdata\\local\\programs\\python\\python311\\lib\\site-packages (from llama-index-core) (10.2.0)\n",
      "Requirement already satisfied: tenacity<9.0.0,>=8.2.0 in c:\\users\\agaur8\\appdata\\local\\programs\\python\\python311\\lib\\site-packages (from llama-index-core) (8.2.3)\n",
      "Requirement already satisfied: tiktoken>=0.3.3 in c:\\users\\agaur8\\appdata\\local\\programs\\python\\python311\\lib\\site-packages (from llama-index-core) (0.6.0)\n",
      "Requirement already satisfied: typing-inspect>=0.8.0 in c:\\users\\agaur8\\appdata\\local\\programs\\python\\python311\\lib\\site-packages (from llama-index-core) (0.9.0)\n",
      "Requirement already satisfied: opentelemetry-api in c:\\users\\agaur8\\appdata\\local\\programs\\python\\python311\\lib\\site-packages (from openinference-instrumentation-llama-index>=1.0.0) (1.23.0)\n",
      "Requirement already satisfied: opentelemetry-instrumentation in c:\\users\\agaur8\\appdata\\local\\programs\\python\\python311\\lib\\site-packages (from openinference-instrumentation-llama-index>=1.0.0) (0.44b0)\n",
      "Requirement already satisfied: opentelemetry-semantic-conventions in c:\\users\\agaur8\\appdata\\local\\programs\\python\\python311\\lib\\site-packages (from openinference-instrumentation-llama-index>=1.0.0) (0.44b0)\n",
      "Requirement already satisfied: greenlet!=0.4.17 in c:\\users\\agaur8\\appdata\\local\\programs\\python\\python311\\lib\\site-packages (from sqlalchemy) (3.0.3)\n",
      "Requirement already satisfied: beautifulsoup4 in c:\\users\\agaur8\\appdata\\local\\programs\\python\\python311\\lib\\site-packages (from wikipedia) (4.12.3)\n",
      "Requirement already satisfied: aiosignal>=1.1.2 in c:\\users\\agaur8\\appdata\\local\\programs\\python\\python311\\lib\\site-packages (from aiohttp!=4.0.0a0,!=4.0.0a1->gcsfs) (1.3.1)\n",
      "Requirement already satisfied: attrs>=17.3.0 in c:\\users\\agaur8\\appdata\\local\\programs\\python\\python311\\lib\\site-packages (from aiohttp!=4.0.0a0,!=4.0.0a1->gcsfs) (23.2.0)\n",
      "Requirement already satisfied: frozenlist>=1.1.1 in c:\\users\\agaur8\\appdata\\local\\programs\\python\\python311\\lib\\site-packages (from aiohttp!=4.0.0a0,!=4.0.0a1->gcsfs) (1.4.1)\n",
      "Requirement already satisfied: multidict<7.0,>=4.5 in c:\\users\\agaur8\\appdata\\local\\programs\\python\\python311\\lib\\site-packages (from aiohttp!=4.0.0a0,!=4.0.0a1->gcsfs) (6.0.5)\n",
      "Requirement already satisfied: yarl<2.0,>=1.0 in c:\\users\\agaur8\\appdata\\local\\programs\\python\\python311\\lib\\site-packages (from aiohttp!=4.0.0a0,!=4.0.0a1->gcsfs) (1.9.4)\n",
      "Requirement already satisfied: idna>=2.8 in c:\\users\\agaur8\\appdata\\local\\programs\\python\\python311\\lib\\site-packages (from anyio<5,>=3.5.0->openai>=1) (3.6)\n",
      "Requirement already satisfied: cachetools<6.0,>=2.0.0 in c:\\users\\agaur8\\appdata\\local\\programs\\python\\python311\\lib\\site-packages (from google-auth>=1.2->gcsfs) (5.3.3)\n",
      "Requirement already satisfied: pyasn1-modules>=0.2.1 in c:\\users\\agaur8\\appdata\\local\\programs\\python\\python311\\lib\\site-packages (from google-auth>=1.2->gcsfs) (0.3.0)\n",
      "Requirement already satisfied: rsa<5,>=3.1.4 in c:\\users\\agaur8\\appdata\\local\\programs\\python\\python311\\lib\\site-packages (from google-auth>=1.2->gcsfs) (4.9)\n",
      "Requirement already satisfied: cython<3,>=0.27 in c:\\users\\agaur8\\appdata\\local\\programs\\python\\python311\\lib\\site-packages (from hdbscan<1.0.0,>=0.8.33->arize-phoenix[evals]) (0.29.37)\n",
      "Requirement already satisfied: joblib>=1.0 in c:\\users\\agaur8\\appdata\\local\\programs\\python\\python311\\lib\\site-packages (from hdbscan<1.0.0,>=0.8.33->arize-phoenix[evals]) (1.3.2)\n",
      "Requirement already satisfied: certifi in c:\\users\\agaur8\\appdata\\local\\programs\\python\\python311\\lib\\site-packages (from httpx<1,>=0.23.0->openai>=1) (2024.2.2)\n",
      "Requirement already satisfied: httpcore==1.* in c:\\users\\agaur8\\appdata\\local\\programs\\python\\python311\\lib\\site-packages (from httpx<1,>=0.23.0->openai>=1) (1.0.4)\n",
      "Requirement already satisfied: h11<0.15,>=0.13 in c:\\users\\agaur8\\appdata\\local\\programs\\python\\python311\\lib\\site-packages (from httpcore==1.*->httpx<1,>=0.23.0->openai>=1) (0.14.0)\n",
      "Requirement already satisfied: bs4<0.0.3,>=0.0.2 in c:\\users\\agaur8\\appdata\\local\\programs\\python\\python311\\lib\\site-packages (from llama-index-readers-file<0.2.0,>=0.1.4->llama-index>=0.10.3) (0.0.2)\n",
      "Requirement already satisfied: pymupdf<2.0.0,>=1.23.21 in c:\\users\\agaur8\\appdata\\local\\programs\\python\\python311\\lib\\site-packages (from llama-index-readers-file<0.2.0,>=0.1.4->llama-index>=0.10.3) (1.23.26)\n",
      "Requirement already satisfied: pypdf<5.0.0,>=4.0.1 in c:\\users\\agaur8\\appdata\\local\\programs\\python\\python311\\lib\\site-packages (from llama-index-readers-file<0.2.0,>=0.1.4->llama-index>=0.10.3) (4.1.0)\n",
      "Requirement already satisfied: striprtf<0.0.27,>=0.0.26 in c:\\users\\agaur8\\appdata\\local\\programs\\python\\python311\\lib\\site-packages (from llama-index-readers-file<0.2.0,>=0.1.4->llama-index>=0.10.3) (0.0.26)\n",
      "Requirement already satisfied: soupsieve>1.2 in c:\\users\\agaur8\\appdata\\local\\programs\\python\\python311\\lib\\site-packages (from beautifulsoup4->wikipedia) (2.5)\n",
      "Requirement already satisfied: llama-parse<0.4.0,>=0.3.3 in c:\\users\\agaur8\\appdata\\local\\programs\\python\\python311\\lib\\site-packages (from llama-index-readers-llama-parse<0.2.0,>=0.1.2->llama-index>=0.10.3) (0.3.9)\n",
      "Requirement already satisfied: click in c:\\users\\agaur8\\appdata\\local\\programs\\python\\python311\\lib\\site-packages (from nltk<4.0.0,>=3.8.1->llama-index-core) (8.1.7)\n",
      "Requirement already satisfied: regex>=2021.8.3 in c:\\users\\agaur8\\appdata\\local\\programs\\python\\python311\\lib\\site-packages (from nltk<4.0.0,>=3.8.1->llama-index-core) (2023.12.25)\n",
      "Requirement already satisfied: annotated-types>=0.4.0 in c:\\users\\agaur8\\appdata\\local\\programs\\python\\python311\\lib\\site-packages (from pydantic<3,>=1.9.0->openai>=1) (0.6.0)\n",
      "Requirement already satisfied: pydantic-core==2.16.3 in c:\\users\\agaur8\\appdata\\local\\programs\\python\\python311\\lib\\site-packages (from pydantic<3,>=1.9.0->openai>=1) (2.16.3)\n",
      "Requirement already satisfied: charset-normalizer<4,>=2 in c:\\users\\agaur8\\appdata\\local\\programs\\python\\python311\\lib\\site-packages (from requests->arize-phoenix[evals]) (3.3.2)\n",
      "Requirement already satisfied: urllib3<3,>=1.21.1 in c:\\users\\agaur8\\appdata\\local\\programs\\python\\python311\\lib\\site-packages (from requests->arize-phoenix[evals]) (2.2.1)\n",
      "Requirement already satisfied: threadpoolctl>=2.0.0 in c:\\users\\agaur8\\appdata\\local\\programs\\python\\python311\\lib\\site-packages (from scikit-learn<1.3.0->arize-phoenix[evals]) (3.3.0)\n",
      "Requirement already satisfied: colorama in c:\\users\\agaur8\\appdata\\roaming\\python\\python311\\site-packages (from tqdm->arize-phoenix[evals]) (0.4.6)\n",
      "Requirement already satisfied: mypy-extensions>=0.3.0 in c:\\users\\agaur8\\appdata\\local\\programs\\python\\python311\\lib\\site-packages (from typing-inspect>=0.8.0->llama-index-core) (1.0.0)\n",
      "Requirement already satisfied: marshmallow<4.0.0,>=3.18.0 in c:\\users\\agaur8\\appdata\\local\\programs\\python\\python311\\lib\\site-packages (from dataclasses-json->llama-index-core) (3.21.0)\n",
      "Requirement already satisfied: six in c:\\users\\agaur8\\appdata\\roaming\\python\\python311\\site-packages (from ddsketch->arize-phoenix[evals]) (1.16.0)\n",
      "Requirement already satisfied: requests-oauthlib>=0.7.0 in c:\\users\\agaur8\\appdata\\local\\programs\\python\\python311\\lib\\site-packages (from google-auth-oauthlib->gcsfs) (1.4.0)\n",
      "Requirement already satisfied: google-api-core<3.0.0dev,>=2.15.0 in c:\\users\\agaur8\\appdata\\local\\programs\\python\\python311\\lib\\site-packages (from google-cloud-storage->gcsfs) (2.17.1)\n",
      "Requirement already satisfied: google-cloud-core<3.0dev,>=2.3.0 in c:\\users\\agaur8\\appdata\\local\\programs\\python\\python311\\lib\\site-packages (from google-cloud-storage->gcsfs) (2.4.1)\n",
      "Requirement already satisfied: google-resumable-media>=2.6.0 in c:\\users\\agaur8\\appdata\\local\\programs\\python\\python311\\lib\\site-packages (from google-cloud-storage->gcsfs) (2.7.0)\n",
      "Requirement already satisfied: google-crc32c<2.0dev,>=1.0 in c:\\users\\agaur8\\appdata\\local\\programs\\python\\python311\\lib\\site-packages (from google-cloud-storage->gcsfs) (1.5.0)\n",
      "Requirement already satisfied: MarkupSafe>=2.0 in c:\\users\\agaur8\\appdata\\local\\programs\\python\\python311\\lib\\site-packages (from jinja2->arize-phoenix[evals]) (2.1.5)\n",
      "Requirement already satisfied: importlib-metadata<7.0,>=6.0 in c:\\users\\agaur8\\appdata\\local\\programs\\python\\python311\\lib\\site-packages (from opentelemetry-api->openinference-instrumentation-llama-index>=1.0.0) (6.11.0)\n",
      "Requirement already satisfied: opentelemetry-exporter-otlp-proto-grpc==1.23.0 in c:\\users\\agaur8\\appdata\\local\\programs\\python\\python311\\lib\\site-packages (from opentelemetry-exporter-otlp->arize-phoenix[evals]) (1.23.0)\n",
      "Requirement already satisfied: opentelemetry-exporter-otlp-proto-http==1.23.0 in c:\\users\\agaur8\\appdata\\local\\programs\\python\\python311\\lib\\site-packages (from opentelemetry-exporter-otlp->arize-phoenix[evals]) (1.23.0)\n",
      "Requirement already satisfied: googleapis-common-protos~=1.52 in c:\\users\\agaur8\\appdata\\local\\programs\\python\\python311\\lib\\site-packages (from opentelemetry-exporter-otlp-proto-grpc==1.23.0->opentelemetry-exporter-otlp->arize-phoenix[evals]) (1.63.0)\n",
      "Requirement already satisfied: grpcio<2.0.0,>=1.0.0 in c:\\users\\agaur8\\appdata\\local\\programs\\python\\python311\\lib\\site-packages (from opentelemetry-exporter-otlp-proto-grpc==1.23.0->opentelemetry-exporter-otlp->arize-phoenix[evals]) (1.62.1)\n",
      "Requirement already satisfied: opentelemetry-exporter-otlp-proto-common==1.23.0 in c:\\users\\agaur8\\appdata\\local\\programs\\python\\python311\\lib\\site-packages (from opentelemetry-exporter-otlp-proto-grpc==1.23.0->opentelemetry-exporter-otlp->arize-phoenix[evals]) (1.23.0)\n",
      "Requirement already satisfied: setuptools>=16.0 in c:\\users\\agaur8\\appdata\\local\\programs\\python\\python311\\lib\\site-packages (from opentelemetry-instrumentation->openinference-instrumentation-llama-index>=1.0.0) (69.2.0)\n",
      "Requirement already satisfied: pytz>=2020.1 in c:\\users\\agaur8\\appdata\\local\\programs\\python\\python311\\lib\\site-packages (from pandas->arize-phoenix[evals]) (2024.1)\n",
      "Requirement already satisfied: tzdata>=2022.7 in c:\\users\\agaur8\\appdata\\local\\programs\\python\\python311\\lib\\site-packages (from pandas->arize-phoenix[evals]) (2024.1)\n",
      "Requirement already satisfied: numba>=0.51.2 in c:\\users\\agaur8\\appdata\\local\\programs\\python\\python311\\lib\\site-packages (from umap-learn->arize-phoenix[evals]) (0.59.0)\n",
      "Requirement already satisfied: pynndescent>=0.5 in c:\\users\\agaur8\\appdata\\local\\programs\\python\\python311\\lib\\site-packages (from umap-learn->arize-phoenix[evals]) (0.5.11)\n",
      "Requirement already satisfied: zipp>=0.5 in c:\\users\\agaur8\\appdata\\local\\programs\\python\\python311\\lib\\site-packages (from importlib-metadata<7.0,>=6.0->opentelemetry-api->openinference-instrumentation-llama-index>=1.0.0) (3.17.0)\n",
      "Requirement already satisfied: packaging>=17.0 in c:\\users\\agaur8\\appdata\\local\\programs\\python\\python311\\lib\\site-packages (from marshmallow<4.0.0,>=3.18.0->dataclasses-json->llama-index-core) (23.2)\n",
      "Requirement already satisfied: llvmlite<0.43,>=0.42.0dev0 in c:\\users\\agaur8\\appdata\\local\\programs\\python\\python311\\lib\\site-packages (from numba>=0.51.2->umap-learn->arize-phoenix[evals]) (0.42.0)\n",
      "Requirement already satisfied: pyasn1<0.6.0,>=0.4.6 in c:\\users\\agaur8\\appdata\\local\\programs\\python\\python311\\lib\\site-packages (from pyasn1-modules>=0.2.1->google-auth>=1.2->gcsfs) (0.5.1)\n",
      "Requirement already satisfied: PyMuPDFb==1.23.22 in c:\\users\\agaur8\\appdata\\local\\programs\\python\\python311\\lib\\site-packages (from pymupdf<2.0.0,>=1.23.21->llama-index-readers-file<0.2.0,>=0.1.4->llama-index>=0.10.3) (1.23.22)\n",
      "Requirement already satisfied: oauthlib>=3.0.0 in c:\\users\\agaur8\\appdata\\local\\programs\\python\\python311\\lib\\site-packages (from requests-oauthlib>=0.7.0->google-auth-oauthlib->gcsfs) (3.2.2)\n"
     ]
    }
   ],
   "source": [
    "!pip install \"arize-phoenix[evals]\" \"openai>=1\" gcsfs nest-asyncio \"llama-index>=0.10.3\" \"llama-index-core\" \"openinference-instrumentation-llama-index>=1.0.0\" \"llama-index-callbacks-arize-phoenix>=0.1.2\" \"llama-index-readers-wikipedia\" \"sqlalchemy\" wikipedia"
   ]
  },
  {
   "cell_type": "code",
   "execution_count": 6,
   "metadata": {},
   "outputs": [
    {
     "name": "stdout",
     "output_type": "stream",
     "text": [
      "Requirement already satisfied: pandas in c:\\users\\agaur8\\appdata\\local\\programs\\python\\python311\\lib\\site-packages (2.2.1)\n",
      "Requirement already satisfied: numpy<2,>=1.23.2 in c:\\users\\agaur8\\appdata\\local\\programs\\python\\python311\\lib\\site-packages (from pandas) (1.26.4)\n",
      "Requirement already satisfied: python-dateutil>=2.8.2 in c:\\users\\agaur8\\appdata\\roaming\\python\\python311\\site-packages (from pandas) (2.8.2)\n",
      "Requirement already satisfied: pytz>=2020.1 in c:\\users\\agaur8\\appdata\\local\\programs\\python\\python311\\lib\\site-packages (from pandas) (2024.1)\n",
      "Requirement already satisfied: tzdata>=2022.7 in c:\\users\\agaur8\\appdata\\local\\programs\\python\\python311\\lib\\site-packages (from pandas) (2024.1)\n",
      "Requirement already satisfied: six>=1.5 in c:\\users\\agaur8\\appdata\\roaming\\python\\python311\\site-packages (from python-dateutil>=2.8.2->pandas) (1.16.0)\n"
     ]
    }
   ],
   "source": [
    "#px.__version__\n",
    "#!pip install pyxlsb\n",
    "!pip install pandas\n"
   ]
  },
  {
   "cell_type": "code",
   "execution_count": 7,
   "metadata": {},
   "outputs": [
    {
     "name": "stderr",
     "output_type": "stream",
     "text": [
      "c:\\Users\\agaur8\\AppData\\Local\\Programs\\Python\\Python311\\Lib\\site-packages\\tqdm\\auto.py:21: TqdmWarning: IProgress not found. Please update jupyter and ipywidgets. See https://ipywidgets.readthedocs.io/en/stable/user_install.html\n",
      "  from .autonotebook import tqdm as notebook_tqdm\n"
     ]
    }
   ],
   "source": [
    "import os\n",
    "from getpass import getpass\n",
    "\n",
    "import openai\n",
    "import pandas as pd\n",
    "import phoenix as px\n",
    "from llama_index.core import Document, Settings, set_global_handler\n",
    "from llama_index.core.indices import VectorStoreIndex\n",
    "from llama_index.core.query_engine import NLSQLTableQueryEngine, RouterQueryEngine\n",
    "from llama_index.core.selectors import LLMSingleSelector\n",
    "from llama_index.core.tools import QueryEngineTool\n",
    "from llama_index.core.utilities.sql_wrapper import SQLDatabase\n",
    "from llama_index.llms.openai import OpenAI\n",
    "from sqlalchemy import (\n",
    "    create_engine,\n",
    "    text,\n",
    ")\n",
    "\n",
    "pd.set_option(\"display.max_colwidth\", 1000)"
   ]
  },
  {
   "attachments": {},
   "cell_type": "markdown",
   "metadata": {},
   "source": [
    "### Importing all the libraries"
   ]
  },
  {
   "cell_type": "code",
   "execution_count": 8,
   "metadata": {},
   "outputs": [],
   "source": [
    "from dotenv import load_dotenv\n",
    "import openai\n",
    "import os\n",
    "import langchain.llms as llms\n",
    "from langchain.chains import create_sql_query_chain\n",
    "import pandas as pd\n",
    "import sqlite3\n",
    "from langchain_community.utilities import SQLDatabase\n",
    "from langchain.prompts import PromptTemplate\n",
    "import openpyxl\n",
    "from langchain.sql_database import SQLDatabase\n",
    "from langchain_community.agent_toolkits import create_sql_agent\n",
    "from langchain_community.tools.sql_database.tool import QuerySQLDataBaseTool\n",
    "from operator import itemgetter\n",
    "from langchain_core.output_parsers import StrOutputParser\n",
    "from langchain_core.prompts import PromptTemplate\n",
    "from langchain_core.runnables import RunnablePassthrough\n",
    "from langchain_openai import ChatOpenAI"
   ]
  },
  {
   "cell_type": "code",
   "execution_count": 9,
   "metadata": {},
   "outputs": [
    {
     "name": "stdout",
     "output_type": "stream",
     "text": [
      "The current working directory: g:\\My Drive\\MSBA\\Semester4\\CCC\\LLM-powered-OLAP-CCC-project-main\n"
     ]
    }
   ],
   "source": [
    "working_dir = \"G:\\My Drive\\MSBA\\Semester4\\CCC\\LLM-powered-OLAP-CCC-project-main\"\n",
    "os.chdir(working_dir)\n",
    "\n",
    "print(f\"The current working directory: {os.getcwd()}\")"
   ]
  },
  {
   "cell_type": "code",
   "execution_count": 10,
   "metadata": {},
   "outputs": [
    {
     "name": "stdout",
     "output_type": "stream",
     "text": [
      "🌍 To view the Phoenix app in your browser, visit http://localhost:6006/\n",
      "📺 To view the Phoenix app in a notebook, run `px.active_session().view()`\n",
      "📖 For more information on how to use Phoenix, check out https://docs.arize.com/phoenix\n"
     ]
    }
   ],
   "source": [
    "session = px.launch_app()"
   ]
  },
  {
   "attachments": {},
   "cell_type": "markdown",
   "metadata": {},
   "source": [
    "Enable Phoenix tracing within LlamaIndex by setting arize_phoenix as the global handler. This will mount Phoenix's OpenInferenceTraceCallback as the global handler. Phoenix uses OpenInference traces - an open-source standard for capturing and storing LLM application traces that enables LLM applications to seamlessly integrate with LLM observability solutions such as Phoenix."
   ]
  },
  {
   "cell_type": "code",
   "execution_count": 11,
   "metadata": {},
   "outputs": [],
   "source": [
    "set_global_handler(\"arize_phoenix\")"
   ]
  },
  {
   "cell_type": "code",
   "execution_count": 12,
   "metadata": {},
   "outputs": [],
   "source": [
    "#Configure Your OpenAI API Key\n",
    "if not (openai_api_key := os.getenv(\"OPENAI_API_KEY\")):\n",
    "    openai_api_key = getpass(\"🔑 Enter your OpenAI API key: \")\n",
    "openai.api_key = openai_api_key\n",
    "os.environ[\"OPENAI_API_KEY\"] = openai_api_key"
   ]
  },
  {
   "attachments": {},
   "cell_type": "markdown",
   "metadata": {},
   "source": [
    "### Importing and loading the csv file to SQLite Database"
   ]
  },
  {
   "cell_type": "code",
   "execution_count": 13,
   "metadata": {},
   "outputs": [
    {
     "name": "stdout",
     "output_type": "stream",
     "text": [
      "Data from 'dataset_flattened.csv' has been successfully saved to 'dataset.db' in the table 'models'.\n"
     ]
    }
   ],
   "source": [
    "# Load CSV file\n",
    "csv_file = 'dataset_flattened.csv'\n",
    "df = pd.read_csv(csv_file)  \n",
    "\n",
    "# Save to SQLite DB\n",
    "db_file = 'dataset.db'  \n",
    "conn = sqlite3.connect(db_file)\n",
    "table_name = 'models'\n",
    "df.to_sql(table_name, conn, if_exists='replace', index=False)\n",
    "conn.close()\n",
    "\n",
    "print(f\"Data from '{csv_file}' has been successfully saved to '{db_file}' in the table '{table_name}'.\")\n"
   ]
  },
  {
   "cell_type": "code",
   "execution_count": 14,
   "metadata": {},
   "outputs": [
    {
     "name": "stdout",
     "output_type": "stream",
     "text": [
      "Table Names: ['models']\n"
     ]
    },
    {
     "data": {
      "text/plain": [
       "'[(4797,)]'"
      ]
     },
     "execution_count": 14,
     "metadata": {},
     "output_type": "execute_result"
    }
   ],
   "source": [
    "# SQLite database connection\n",
    "db = SQLDatabase.from_uri(\"sqlite:///dataset.db\")\n",
    "\n",
    "# List all the available table names in the database\n",
    "print(\"Table Names:\", db.get_usable_table_names())\n",
    "\n",
    "# Execute the query\n",
    "db.run(\"SELECT count(*) from models\")\n"
   ]
  },
  {
   "attachments": {},
   "cell_type": "markdown",
   "metadata": {},
   "source": [
    "### Developing a chain with sample example"
   ]
  },
  {
   "cell_type": "code",
   "execution_count": 15,
   "metadata": {},
   "outputs": [
    {
     "data": {
      "text/plain": [
       "'SELECT \"Model Name\", \"Model Version\", \"Performance Metrics\" FROM models WHERE \"Company Name\" = \\'company A\\' ORDER BY \"Performance Metrics\" DESC LIMIT 1'"
      ]
     },
     "execution_count": 15,
     "metadata": {},
     "output_type": "execute_result"
    }
   ],
   "source": [
    "# GPT connection\n",
    "llm = ChatOpenAI(model=\"gpt-4\", temperature=0.2)\n",
    "\n",
    "#First Chain to take the user input and convert it to a SQL query\n",
    "write_query = create_sql_query_chain(llm, db)\n",
    "response = write_query.invoke({\"question\": \"Which production model delivers the top performance for company A?\"})\n",
    "response "
   ]
  },
  {
   "cell_type": "code",
   "execution_count": 16,
   "metadata": {},
   "outputs": [
    {
     "data": {
      "text/plain": [
       "''"
      ]
     },
     "execution_count": 16,
     "metadata": {},
     "output_type": "execute_result"
    }
   ],
   "source": [
    "#Second chain to excute the SQL queries\n",
    "execute_query = QuerySQLDataBaseTool(db=db)\n",
    "\n",
    "chain = write_query | execute_query\n",
    "chain.invoke({\"question\": \"Which production model delivers the top performance for company A?\"})\n"
   ]
  },
  {
   "attachments": {},
   "cell_type": "markdown",
   "metadata": {},
   "source": [
    "###  Fine tuning the model with basic prompt engineering for our use case"
   ]
  },
  {
   "cell_type": "code",
   "execution_count": 17,
   "metadata": {},
   "outputs": [],
   "source": [
    "# Prompt to generate SQL queries\n",
    "SQl_prompt = PromptTemplate.from_template(\n",
    "    \"\"\"You are a SQLite expert. Given an input question, create a syntactically correct SQLite query to run, to answer the input question.\n",
    "Remember, your query should aim to answer the question with a single SQL statement and limit the results appropriately. You can order the results to return the most informative data in the database.\n",
    "You MUST double check your query before executing it. If you get an error while executing a query, rewrite the query and try again.\n",
    "Never query for all columns from a table. Only query the columns that are needed to answer the question. Wrap each column name in double quotes (\") to denote them as delimited identifiers.\n",
    "Be careful not to query for columns that do not exist. Also, pay attention to which column is in which table.\n",
    "Pay attention to use the date('now') function to get the current date if the question involves \"today\".\n",
    "\n",
    "Only use the following tables:\n",
    "\n",
    "{table_info}.\n",
    "\n",
    "Question: {input}\n",
    "Provide up to {top_k} SQL variations.\"\"\"\n",
    ")\n",
    "\n",
    "# Prompt to answer the questions\n",
    "answer_prompt = PromptTemplate.from_template(\n",
    "    \"\"\"Given the following user question, corresponding SQL query, and SQL result, answer the user question.\n",
    "    \n",
    "Question: {question}\n",
    "SQL Query: {query}\n",
    "SQL Result: {result}\n",
    "Answer: \"\"\"\n",
    ")"
   ]
  },
  {
   "cell_type": "code",
   "execution_count": 18,
   "metadata": {},
   "outputs": [],
   "source": [
    "# Initialize Chain 1: Generate SQL Query\n",
    "generate_sql_chain = create_sql_query_chain(prompt=SQl_prompt, llm=llm, db=db)\n",
    "\n",
    "# Initialize Chain 2: Execute SQL Query and generate structured answer\n",
    "execute_sql_chain = answer_prompt | llm | StrOutputParser()\n",
    "\n",
    "\n",
    "def execute_combined_chain(question):\n",
    "    # Step 1: Generate SQL Query\n",
    "    sql_query = generate_sql_chain.invoke({\"question\": question, \"top_k\": 1})\n",
    "    \n",
    "    # Step 2: Execute the SQL Query to get the result\n",
    "    sql_result = execute_query(sql_query)  # Ensure this returns the result of executing the SQL query\n",
    "    \n",
    "    # Step 3: Pass the necessary inputs to the final chain and format the output to include both SQL query and result\n",
    "    final_response = execute_sql_chain.invoke({\"question\": question, \"query\": sql_query, \"result\": sql_result})\n",
    "    \n",
    "    # Format the final answer to include both the SQL query and its result\n",
    "    final_answer = f\"SQL Query: {sql_query}\\n Answer: {final_response}\"\n",
    "    return final_answer\n"
   ]
  },
  {
   "cell_type": "code",
   "execution_count": 19,
   "metadata": {},
   "outputs": [
    {
     "name": "stdout",
     "output_type": "stream",
     "text": [
      "SQL Query: SQL Query:\n",
      "\n",
      "SELECT \"Model Name\", \"Model Version\", \"Performance Metrics\"\n",
      "FROM models\n",
      "WHERE \"Company Name\" = 'Company A'\n",
      "ORDER BY \"Performance Metrics\" DESC\n",
      "LIMIT 1;\n",
      " Answer: The query has an error and did not return a result. Therefore, the top performance model for Company A cannot be determined.\n"
     ]
    }
   ],
   "source": [
    "# Example invocation\n",
    "question = \"Which production model delivers the top performance for company A?\"\n",
    "final_answer = execute_combined_chain(question)\n",
    "print(final_answer)"
   ]
  },
  {
   "attachments": {},
   "cell_type": "markdown",
   "metadata": {},
   "source": [
    "Loading dataframe for ground truth"
   ]
  },
  {
   "cell_type": "code",
   "execution_count": 20,
   "metadata": {},
   "outputs": [
    {
     "name": "stdout",
     "output_type": "stream",
     "text": [
      "                                                             Question  \\\n",
      "0                          How many records are there in models table   \n",
      "1                           How many models do we have in production?   \n",
      "2                Which production model possesses the highest volume?   \n",
      "3                 Which production model exhibits the highest volume?   \n",
      "4  Which production model delivers the top performance for company A?   \n",
      "\n",
      "                                                                                                                                                     SQLQuery  \\\n",
      "0                                                                                                                                 SELECT COUNT(*) FROM models   \n",
      "1                                                                                                           'SELECT COUNT(DISTINCT \"Model Name\") FROM models'   \n",
      "2                                                                                     'SELECT \"Model Name\", \"Model Version\", MAX(\"Daily Volume\") FROM models'   \n",
      "3                                                                                     'SELECT \"Model Name\", \"Model Version\", MAX(\"Daily Volume\") FROM models'   \n",
      "4  SELECT \"Model Name\", \"Model Version\", \"Performance Metrics\" FROM models WHERE \"Company Name\" = \\'Nationwide\\' ORDER BY \"Performance Metrics\" DESC LIMIT 1'   \n",
      "\n",
      "                                   SQLResult  \\\n",
      "0                                '[(4797,)]'   \n",
      "1                                   [(50,)]'   \n",
      "2                  \"[('Model 41', 2, 5000)]\"   \n",
      "3                  \"[('Model 41', 2, 5000)]\"   \n",
      "4  \"[('Model 21', 2, '[0.95, 0.94, 0.87]')]\"   \n",
      "\n",
      "                                                                                                                                                                                                                                                                                               Answer  \n",
      "0                                                                                                                                                                                                         SQL Query: SELECT COUNT(*) FROM models; Answer: There are 4797 records in the models table.  \n",
      "1                                                                                                SQL Query: SQL Query: SELECT COUNT(DISTINCT \"Model Name\") AS \"Number of Models in Production\" FROM models; Answer: I'm sorry, but I can't provide the answer due to a syntax error in the SQL query.  \n",
      "2                                                                SQL Query: SELECT \"Model Name\", \"Model Type\", \"Model Version\", MAX(\"Daily Volume\") as \"Highest Volume\" FROM models ORDER BY \"Daily Volume\" DESC LIMIT 1; Answer: The production model that possesses the highest volume is Model 41.  \n",
      "3                                                                        SQL Query: SELECT \"Model Name\", MAX(\"Daily Volume\") AS \"Highest Volume\" FROM models GROUP BY \"Model Name\" ORDER BY \"Highest Volume\" DESC LIMIT 1; Answer: The production model that exhibits the highest volume is Model 41.  \n",
      "4  SQL Query: SELECT \"Model Name\", \"Model Version\", \"Performance Metrics\" FROM models WHERE \"Company Name\" = 'Company A' ORDER BY \"Performance Metrics\" DESC LIMIT 1; Answer: The SQL result is missing from the provided information. Therefore, I cannot provide an answer to the user's question.   \n"
     ]
    }
   ],
   "source": [
    "import pandas as pd\n",
    "\n",
    "# Read the .xlsx file\n",
    "df = pd.read_excel('ground_truth.xlsx')\n",
    "\n",
    "# Display the DataFrame\n",
    "print(df)"
   ]
  },
  {
   "cell_type": "code",
   "execution_count": 21,
   "metadata": {},
   "outputs": [
    {
     "name": "stdout",
     "output_type": "stream",
     "text": [
      "Requirement already satisfied: gensim in c:\\users\\agaur8\\appdata\\local\\programs\\python\\python311\\lib\\site-packages (4.3.2)\n",
      "Requirement already satisfied: numpy>=1.18.5 in c:\\users\\agaur8\\appdata\\local\\programs\\python\\python311\\lib\\site-packages (from gensim) (1.26.4)\n",
      "Requirement already satisfied: scipy>=1.7.0 in c:\\users\\agaur8\\appdata\\local\\programs\\python\\python311\\lib\\site-packages (from gensim) (1.12.0)\n",
      "Requirement already satisfied: smart-open>=1.8.1 in c:\\users\\agaur8\\appdata\\local\\programs\\python\\python311\\lib\\site-packages (from gensim) (7.0.1)\n",
      "Requirement already satisfied: wrapt in c:\\users\\agaur8\\appdata\\local\\programs\\python\\python311\\lib\\site-packages (from smart-open>=1.8.1->gensim) (1.16.0)\n",
      "Note: you may need to restart the kernel to use updated packages.\n"
     ]
    }
   ],
   "source": [
    "pip install gensim"
   ]
  },
  {
   "cell_type": "code",
   "execution_count": 22,
   "metadata": {},
   "outputs": [
    {
     "name": "stdout",
     "output_type": "stream",
     "text": [
      "Requirement already satisfied: faiss-cpu in c:\\users\\agaur8\\appdata\\local\\programs\\python\\python311\\lib\\site-packages (1.8.0)\n",
      "Requirement already satisfied: numpy in c:\\users\\agaur8\\appdata\\local\\programs\\python\\python311\\lib\\site-packages (from faiss-cpu) (1.26.4)\n",
      "Note: you may need to restart the kernel to use updated packages.\n"
     ]
    }
   ],
   "source": [
    "%pip install faiss-cpu\n"
   ]
  },
  {
   "cell_type": "code",
   "execution_count": 23,
   "metadata": {},
   "outputs": [],
   "source": [
    "import numpy as np\n",
    "from gensim.models.doc2vec import TaggedDocument, Doc2Vec\n",
    "\n",
    "# Assuming you have already loaded your DataFrame named 'df'\n",
    "text_data = df['Question'].tolist()\n",
    "\n",
    "# Train Doc2Vec model\n",
    "documents = [TaggedDocument(words=str(d).split(), tags=[str(i)]) for i, d in enumerate(text_data)]\n",
    "model = Doc2Vec(documents, vector_size=100, window=2, min_count=1, workers=4, epochs=100)\n",
    "\n",
    "# Convert documents to vectors\n",
    "vectors = [model.infer_vector(doc.words) for doc in documents]\n",
    "\n",
    "# Convert vectors to numpy array\n",
    "vectors_array = np.array(vectors)\n",
    "\n",
    "# Use faiss to create an index\n",
    "import faiss\n",
    "\n",
    "# Instantiate an index\n",
    "index = faiss.IndexFlatL2(vectors_array.shape[1])  # L2 distance is commonly used for cosine similarity\n",
    "\n",
    "# Add vectors to the index\n",
    "index.add(vectors_array)\n",
    "\n",
    "# Now you have your DataFrame data converted into a vector index using faiss"
   ]
  },
  {
   "attachments": {},
   "cell_type": "markdown",
   "metadata": {},
   "source": [
    "Build LlamaIndex Application"
   ]
  },
  {
   "cell_type": "code",
   "execution_count": null,
   "metadata": {},
   "outputs": [
    {
     "name": "stdout",
     "output_type": "stream",
     "text": [
      "Requirement already satisfied: openai in c:\\users\\agaur8\\appdata\\local\\programs\\python\\python311\\lib\\site-packages (1.14.1)Note: you may need to restart the kernel to use updated packages.\n",
      "\n",
      "Requirement already satisfied: anyio<5,>=3.5.0 in c:\\users\\agaur8\\appdata\\local\\programs\\python\\python311\\lib\\site-packages (from openai) (4.3.0)\n",
      "Requirement already satisfied: distro<2,>=1.7.0 in c:\\users\\agaur8\\appdata\\local\\programs\\python\\python311\\lib\\site-packages (from openai) (1.9.0)\n",
      "Requirement already satisfied: httpx<1,>=0.23.0 in c:\\users\\agaur8\\appdata\\local\\programs\\python\\python311\\lib\\site-packages (from openai) (0.27.0)\n",
      "Requirement already satisfied: pydantic<3,>=1.9.0 in c:\\users\\agaur8\\appdata\\local\\programs\\python\\python311\\lib\\site-packages (from openai) (2.6.3)\n",
      "Requirement already satisfied: sniffio in c:\\users\\agaur8\\appdata\\local\\programs\\python\\python311\\lib\\site-packages (from openai) (1.3.1)\n",
      "Requirement already satisfied: tqdm>4 in c:\\users\\agaur8\\appdata\\local\\programs\\python\\python311\\lib\\site-packages (from openai) (4.66.2)\n",
      "Requirement already satisfied: typing-extensions<5,>=4.7 in c:\\users\\agaur8\\appdata\\local\\programs\\python\\python311\\lib\\site-packages (from openai) (4.10.0)\n",
      "Requirement already satisfied: idna>=2.8 in c:\\users\\agaur8\\appdata\\local\\programs\\python\\python311\\lib\\site-packages (from anyio<5,>=3.5.0->openai) (3.6)\n",
      "Requirement already satisfied: certifi in c:\\users\\agaur8\\appdata\\local\\programs\\python\\python311\\lib\\site-packages (from httpx<1,>=0.23.0->openai) (2024.2.2)\n",
      "Requirement already satisfied: httpcore==1.* in c:\\users\\agaur8\\appdata\\local\\programs\\python\\python311\\lib\\site-packages (from httpx<1,>=0.23.0->openai) (1.0.4)\n",
      "Requirement already satisfied: h11<0.15,>=0.13 in c:\\users\\agaur8\\appdata\\local\\programs\\python\\python311\\lib\\site-packages (from httpcore==1.*->httpx<1,>=0.23.0->openai) (0.14.0)\n",
      "Requirement already satisfied: annotated-types>=0.4.0 in c:\\users\\agaur8\\appdata\\local\\programs\\python\\python311\\lib\\site-packages (from pydantic<3,>=1.9.0->openai) (0.6.0)\n",
      "Requirement already satisfied: pydantic-core==2.16.3 in c:\\users\\agaur8\\appdata\\local\\programs\\python\\python311\\lib\\site-packages (from pydantic<3,>=1.9.0->openai) (2.16.3)\n",
      "Requirement already satisfied: colorama in c:\\users\\agaur8\\appdata\\roaming\\python\\python311\\site-packages (from tqdm>4->openai) (0.4.6)\n"
     ]
    }
   ],
   "source": [
    "pip install openai"
   ]
  },
  {
   "cell_type": "code",
   "execution_count": 25,
   "metadata": {},
   "outputs": [],
   "source": [
    "#from openai import OpenAI, Temperature\n",
    "\n",
    "# Create an instance of the OpenAI class\n",
    "#openai_instance = OpenAI(model=\"gpt-4\")\n",
    "\n",
    "#Settings.llm = OpenAI(temperature=0.2, model=\"gpt-4\")"
   ]
  },
  {
   "cell_type": "code",
   "execution_count": 26,
   "metadata": {},
   "outputs": [
    {
     "ename": "NameError",
     "evalue": "name 'vector_indices' is not defined",
     "output_type": "error",
     "traceback": [
      "\u001b[1;31m---------------------------------------------------------------------------\u001b[0m",
      "\u001b[1;31mNameError\u001b[0m                                 Traceback (most recent call last)",
      "Cell \u001b[1;32mIn[26], line 1\u001b[0m\n\u001b[1;32m----> 1\u001b[0m vector_query_engines \u001b[39m=\u001b[39m [index\u001b[39m.\u001b[39mas_query_engine() \u001b[39mfor\u001b[39;00m index \u001b[39min\u001b[39;00m vector_indices]\n\u001b[0;32m      2\u001b[0m vector_tools \u001b[39m=\u001b[39m []\n\u001b[0;32m      3\u001b[0m \u001b[39mfor\u001b[39;00m query_engine \u001b[39min\u001b[39;00m vector_query_engines:\n",
      "\u001b[1;31mNameError\u001b[0m: name 'vector_indices' is not defined"
     ]
    }
   ],
   "source": [
    "\n",
    "vector_query_engines = [index.as_query_engine() for index in vector_indices]\n",
    "\n",
    "vector_tools = []\n",
    "for query_engine in vector_query_engines:\n",
    "    vector_tool = QueryEngineTool.from_defaults(\n",
    "        query_engine=query_engine,\n",
    "        description=\"You are a SQLite expert. Given an input question, create a syntactically correct SQLite query to run, to answer the input question. Remember, your query should aim to answer the question with a single SQL statement and limit the results appropriately. You can order the results to return the most informative data in the database. You MUST double check your query before executing it. If you get an error while executing a query, rewrite the query and try again. Never query for all columns from a table. Only query the columns that are needed to answer the question. Wrap each column name in double quotes to denote them as delimited identifiers. Be careful not to query for columns that do not exist. Also, pay attention to which column is in which table.Pay attention to use the date('now') function to get the current date if the question involves 'today\",)"
   ]
  },
  {
   "cell_type": "code",
   "execution_count": null,
   "metadata": {},
   "outputs": [],
   "source": []
  },
  {
   "attachments": {},
   "cell_type": "markdown",
   "metadata": {},
   "source": [
    "Make Queries and Use Phoenix to view Spans"
   ]
  },
  {
   "cell_type": "code",
   "execution_count": null,
   "metadata": {},
   "outputs": [],
   "source": [
    "response = query_engine.query(\"What is the most expensive digital camera?\")\n",
    "print(str(response))"
   ]
  },
  {
   "cell_type": "code",
   "execution_count": null,
   "metadata": {},
   "outputs": [],
   "source": [
    "response = query_engine.query(\"Tell me about the history of digital camera sensors.\")\n",
    "print(str(response))"
   ]
  },
  {
   "attachments": {},
   "cell_type": "markdown",
   "metadata": {},
   "source": [
    "### Further Fine tunning the model"
   ]
  },
  {
   "cell_type": "code",
   "execution_count": null,
   "metadata": {},
   "outputs": [
    {
     "name": "stdout",
     "output_type": "stream",
     "text": [
      "sqlite\n",
      "['models']\n"
     ]
    },
    {
     "ename": "OperationalError",
     "evalue": "(sqlite3.OperationalError) view model_metrics_view already exists\n[SQL: \nCREATE VIEW model_metrics_view AS\nSELECT\n    MODEL_ID,\n    CASE \n        WHEN \"Model_Type\" IN ('Multi-Class', 'Classification') \n            THEN json_extract(\"Performance_Metrics\", '$[0]')\n    END AS recall,\n    CASE \n        WHEN \"Model_Type\" IN ('Multi-Class', 'Classification') \n            THEN json_extract(\"Performance_Metrics\", '$[1]')\n    END AS precision,\n    CASE \n        WHEN \"Model_Type\" IN ('Multi-Class', 'Classification') \n            THEN json_extract(\"Performance_Metrics\", '$[2]')\n    END AS accuracy,\n    CASE\n        WHEN \"Model_type\" IN (\"Regression\")\n             THEN Performance_Metrics\n    END AS MAE\nFROM\n    models;\n]\n(Background on this error at: https://sqlalche.me/e/20/e3q8)",
     "output_type": "error",
     "traceback": [
      "\u001b[1;31m---------------------------------------------------------------------------\u001b[0m",
      "\u001b[1;31mOperationalError\u001b[0m                          Traceback (most recent call last)",
      "File \u001b[1;32mc:\\Users\\agaur8\\AppData\\Local\\Programs\\Python\\Python311\\Lib\\site-packages\\sqlalchemy\\engine\\base.py:1960\u001b[0m, in \u001b[0;36mConnection._exec_single_context\u001b[1;34m(self, dialect, context, statement, parameters)\u001b[0m\n\u001b[0;32m   1959\u001b[0m     \u001b[39mif\u001b[39;00m \u001b[39mnot\u001b[39;00m evt_handled:\n\u001b[1;32m-> 1960\u001b[0m         \u001b[39mself\u001b[39;49m\u001b[39m.\u001b[39;49mdialect\u001b[39m.\u001b[39;49mdo_execute(\n\u001b[0;32m   1961\u001b[0m             cursor, str_statement, effective_parameters, context\n\u001b[0;32m   1962\u001b[0m         )\n\u001b[0;32m   1964\u001b[0m \u001b[39mif\u001b[39;00m \u001b[39mself\u001b[39m\u001b[39m.\u001b[39m_has_events \u001b[39mor\u001b[39;00m \u001b[39mself\u001b[39m\u001b[39m.\u001b[39mengine\u001b[39m.\u001b[39m_has_events:\n",
      "File \u001b[1;32mc:\\Users\\agaur8\\AppData\\Local\\Programs\\Python\\Python311\\Lib\\site-packages\\sqlalchemy\\engine\\default.py:924\u001b[0m, in \u001b[0;36mDefaultDialect.do_execute\u001b[1;34m(self, cursor, statement, parameters, context)\u001b[0m\n\u001b[0;32m    923\u001b[0m \u001b[39mdef\u001b[39;00m \u001b[39mdo_execute\u001b[39m(\u001b[39mself\u001b[39m, cursor, statement, parameters, context\u001b[39m=\u001b[39m\u001b[39mNone\u001b[39;00m):\n\u001b[1;32m--> 924\u001b[0m     cursor\u001b[39m.\u001b[39mexecute(statement, parameters)\n",
      "\u001b[1;31mOperationalError\u001b[0m: view model_metrics_view already exists",
      "\nThe above exception was the direct cause of the following exception:\n",
      "\u001b[1;31mOperationalError\u001b[0m                          Traceback (most recent call last)",
      "Cell \u001b[1;32mIn[55], line 31\u001b[0m\n\u001b[0;32m      6\u001b[0m view_query \u001b[39m=\u001b[39m \u001b[39m\"\"\"\u001b[39m\n\u001b[0;32m      7\u001b[0m \u001b[39mCREATE VIEW model_metrics_view AS\u001b[39m\n\u001b[0;32m      8\u001b[0m \u001b[39mSELECT\u001b[39m\n\u001b[1;32m   (...)\u001b[0m\n\u001b[0;32m     27\u001b[0m \u001b[39m    models;\u001b[39m\n\u001b[0;32m     28\u001b[0m \u001b[39m\"\"\"\u001b[39m\n\u001b[0;32m     30\u001b[0m \u001b[39m# Execute the query to create the view\u001b[39;00m\n\u001b[1;32m---> 31\u001b[0m db\u001b[39m.\u001b[39;49mrun(view_query)\n",
      "File \u001b[1;32mc:\\Users\\agaur8\\AppData\\Local\\Programs\\Python\\Python311\\Lib\\site-packages\\langchain_community\\utilities\\sql_database.py:498\u001b[0m, in \u001b[0;36mSQLDatabase.run\u001b[1;34m(self, command, fetch, include_columns, parameters, execution_options)\u001b[0m\n\u001b[0;32m    484\u001b[0m \u001b[39mdef\u001b[39;00m \u001b[39mrun\u001b[39m(\n\u001b[0;32m    485\u001b[0m     \u001b[39mself\u001b[39m,\n\u001b[0;32m    486\u001b[0m     command: Union[\u001b[39mstr\u001b[39m, Executable],\n\u001b[1;32m   (...)\u001b[0m\n\u001b[0;32m    491\u001b[0m     execution_options: Optional[Dict[\u001b[39mstr\u001b[39m, Any]] \u001b[39m=\u001b[39m \u001b[39mNone\u001b[39;00m,\n\u001b[0;32m    492\u001b[0m ) \u001b[39m-\u001b[39m\u001b[39m>\u001b[39m Union[\u001b[39mstr\u001b[39m, Sequence[Dict[\u001b[39mstr\u001b[39m, Any]], Result[Any]]:\n\u001b[0;32m    493\u001b[0m \u001b[39m    \u001b[39m\u001b[39m\"\"\"Execute a SQL command and return a string representing the results.\u001b[39;00m\n\u001b[0;32m    494\u001b[0m \n\u001b[0;32m    495\u001b[0m \u001b[39m    If the statement returns rows, a string of the results is returned.\u001b[39;00m\n\u001b[0;32m    496\u001b[0m \u001b[39m    If the statement returns no rows, an empty string is returned.\u001b[39;00m\n\u001b[0;32m    497\u001b[0m \u001b[39m    \"\"\"\u001b[39;00m\n\u001b[1;32m--> 498\u001b[0m     result \u001b[39m=\u001b[39m \u001b[39mself\u001b[39;49m\u001b[39m.\u001b[39;49m_execute(\n\u001b[0;32m    499\u001b[0m         command, fetch, parameters\u001b[39m=\u001b[39;49mparameters, execution_options\u001b[39m=\u001b[39;49mexecution_options\n\u001b[0;32m    500\u001b[0m     )\n\u001b[0;32m    502\u001b[0m     \u001b[39mif\u001b[39;00m fetch \u001b[39m==\u001b[39m \u001b[39m\"\u001b[39m\u001b[39mcursor\u001b[39m\u001b[39m\"\u001b[39m:\n\u001b[0;32m    503\u001b[0m         \u001b[39mreturn\u001b[39;00m result\n",
      "File \u001b[1;32mc:\\Users\\agaur8\\AppData\\Local\\Programs\\Python\\Python311\\Lib\\site-packages\\langchain_community\\utilities\\sql_database.py:463\u001b[0m, in \u001b[0;36mSQLDatabase._execute\u001b[1;34m(self, command, fetch, parameters, execution_options)\u001b[0m\n\u001b[0;32m    461\u001b[0m \u001b[39melse\u001b[39;00m:\n\u001b[0;32m    462\u001b[0m     \u001b[39mraise\u001b[39;00m \u001b[39mTypeError\u001b[39;00m(\u001b[39mf\u001b[39m\u001b[39m\"\u001b[39m\u001b[39mQuery expression has unknown type: \u001b[39m\u001b[39m{\u001b[39;00m\u001b[39mtype\u001b[39m(command)\u001b[39m}\u001b[39;00m\u001b[39m\"\u001b[39m)\n\u001b[1;32m--> 463\u001b[0m cursor \u001b[39m=\u001b[39m connection\u001b[39m.\u001b[39;49mexecute(\n\u001b[0;32m    464\u001b[0m     command,\n\u001b[0;32m    465\u001b[0m     parameters,\n\u001b[0;32m    466\u001b[0m     execution_options\u001b[39m=\u001b[39;49mexecution_options,\n\u001b[0;32m    467\u001b[0m )\n\u001b[0;32m    469\u001b[0m \u001b[39mif\u001b[39;00m cursor\u001b[39m.\u001b[39mreturns_rows:\n\u001b[0;32m    470\u001b[0m     \u001b[39mif\u001b[39;00m fetch \u001b[39m==\u001b[39m \u001b[39m\"\u001b[39m\u001b[39mall\u001b[39m\u001b[39m\"\u001b[39m:\n",
      "File \u001b[1;32mc:\\Users\\agaur8\\AppData\\Local\\Programs\\Python\\Python311\\Lib\\site-packages\\sqlalchemy\\engine\\base.py:1408\u001b[0m, in \u001b[0;36mConnection.execute\u001b[1;34m(self, statement, parameters, execution_options)\u001b[0m\n\u001b[0;32m   1406\u001b[0m     \u001b[39mraise\u001b[39;00m exc\u001b[39m.\u001b[39mObjectNotExecutableError(statement) \u001b[39mfrom\u001b[39;00m \u001b[39merr\u001b[39;00m\n\u001b[0;32m   1407\u001b[0m \u001b[39melse\u001b[39;00m:\n\u001b[1;32m-> 1408\u001b[0m     \u001b[39mreturn\u001b[39;00m meth(\n\u001b[0;32m   1409\u001b[0m         \u001b[39mself\u001b[39;49m,\n\u001b[0;32m   1410\u001b[0m         distilled_parameters,\n\u001b[0;32m   1411\u001b[0m         execution_options \u001b[39mor\u001b[39;49;00m NO_OPTIONS,\n\u001b[0;32m   1412\u001b[0m     )\n",
      "File \u001b[1;32mc:\\Users\\agaur8\\AppData\\Local\\Programs\\Python\\Python311\\Lib\\site-packages\\sqlalchemy\\sql\\elements.py:513\u001b[0m, in \u001b[0;36mClauseElement._execute_on_connection\u001b[1;34m(self, connection, distilled_params, execution_options)\u001b[0m\n\u001b[0;32m    511\u001b[0m     \u001b[39mif\u001b[39;00m TYPE_CHECKING:\n\u001b[0;32m    512\u001b[0m         \u001b[39massert\u001b[39;00m \u001b[39misinstance\u001b[39m(\u001b[39mself\u001b[39m, Executable)\n\u001b[1;32m--> 513\u001b[0m     \u001b[39mreturn\u001b[39;00m connection\u001b[39m.\u001b[39;49m_execute_clauseelement(\n\u001b[0;32m    514\u001b[0m         \u001b[39mself\u001b[39;49m, distilled_params, execution_options\n\u001b[0;32m    515\u001b[0m     )\n\u001b[0;32m    516\u001b[0m \u001b[39melse\u001b[39;00m:\n\u001b[0;32m    517\u001b[0m     \u001b[39mraise\u001b[39;00m exc\u001b[39m.\u001b[39mObjectNotExecutableError(\u001b[39mself\u001b[39m)\n",
      "File \u001b[1;32mc:\\Users\\agaur8\\AppData\\Local\\Programs\\Python\\Python311\\Lib\\site-packages\\sqlalchemy\\engine\\base.py:1630\u001b[0m, in \u001b[0;36mConnection._execute_clauseelement\u001b[1;34m(self, elem, distilled_parameters, execution_options)\u001b[0m\n\u001b[0;32m   1618\u001b[0m compiled_cache: Optional[CompiledCacheType] \u001b[39m=\u001b[39m execution_options\u001b[39m.\u001b[39mget(\n\u001b[0;32m   1619\u001b[0m     \u001b[39m\"\u001b[39m\u001b[39mcompiled_cache\u001b[39m\u001b[39m\"\u001b[39m, \u001b[39mself\u001b[39m\u001b[39m.\u001b[39mengine\u001b[39m.\u001b[39m_compiled_cache\n\u001b[0;32m   1620\u001b[0m )\n\u001b[0;32m   1622\u001b[0m compiled_sql, extracted_params, cache_hit \u001b[39m=\u001b[39m elem\u001b[39m.\u001b[39m_compile_w_cache(\n\u001b[0;32m   1623\u001b[0m     dialect\u001b[39m=\u001b[39mdialect,\n\u001b[0;32m   1624\u001b[0m     compiled_cache\u001b[39m=\u001b[39mcompiled_cache,\n\u001b[1;32m   (...)\u001b[0m\n\u001b[0;32m   1628\u001b[0m     linting\u001b[39m=\u001b[39m\u001b[39mself\u001b[39m\u001b[39m.\u001b[39mdialect\u001b[39m.\u001b[39mcompiler_linting \u001b[39m|\u001b[39m compiler\u001b[39m.\u001b[39mWARN_LINTING,\n\u001b[0;32m   1629\u001b[0m )\n\u001b[1;32m-> 1630\u001b[0m ret \u001b[39m=\u001b[39m \u001b[39mself\u001b[39;49m\u001b[39m.\u001b[39;49m_execute_context(\n\u001b[0;32m   1631\u001b[0m     dialect,\n\u001b[0;32m   1632\u001b[0m     dialect\u001b[39m.\u001b[39;49mexecution_ctx_cls\u001b[39m.\u001b[39;49m_init_compiled,\n\u001b[0;32m   1633\u001b[0m     compiled_sql,\n\u001b[0;32m   1634\u001b[0m     distilled_parameters,\n\u001b[0;32m   1635\u001b[0m     execution_options,\n\u001b[0;32m   1636\u001b[0m     compiled_sql,\n\u001b[0;32m   1637\u001b[0m     distilled_parameters,\n\u001b[0;32m   1638\u001b[0m     elem,\n\u001b[0;32m   1639\u001b[0m     extracted_params,\n\u001b[0;32m   1640\u001b[0m     cache_hit\u001b[39m=\u001b[39;49mcache_hit,\n\u001b[0;32m   1641\u001b[0m )\n\u001b[0;32m   1642\u001b[0m \u001b[39mif\u001b[39;00m has_events:\n\u001b[0;32m   1643\u001b[0m     \u001b[39mself\u001b[39m\u001b[39m.\u001b[39mdispatch\u001b[39m.\u001b[39mafter_execute(\n\u001b[0;32m   1644\u001b[0m         \u001b[39mself\u001b[39m,\n\u001b[0;32m   1645\u001b[0m         elem,\n\u001b[1;32m   (...)\u001b[0m\n\u001b[0;32m   1649\u001b[0m         ret,\n\u001b[0;32m   1650\u001b[0m     )\n",
      "File \u001b[1;32mc:\\Users\\agaur8\\AppData\\Local\\Programs\\Python\\Python311\\Lib\\site-packages\\sqlalchemy\\engine\\base.py:1839\u001b[0m, in \u001b[0;36mConnection._execute_context\u001b[1;34m(self, dialect, constructor, statement, parameters, execution_options, *args, **kw)\u001b[0m\n\u001b[0;32m   1834\u001b[0m     \u001b[39mreturn\u001b[39;00m \u001b[39mself\u001b[39m\u001b[39m.\u001b[39m_exec_insertmany_context(\n\u001b[0;32m   1835\u001b[0m         dialect,\n\u001b[0;32m   1836\u001b[0m         context,\n\u001b[0;32m   1837\u001b[0m     )\n\u001b[0;32m   1838\u001b[0m \u001b[39melse\u001b[39;00m:\n\u001b[1;32m-> 1839\u001b[0m     \u001b[39mreturn\u001b[39;00m \u001b[39mself\u001b[39;49m\u001b[39m.\u001b[39;49m_exec_single_context(\n\u001b[0;32m   1840\u001b[0m         dialect, context, statement, parameters\n\u001b[0;32m   1841\u001b[0m     )\n",
      "File \u001b[1;32mc:\\Users\\agaur8\\AppData\\Local\\Programs\\Python\\Python311\\Lib\\site-packages\\sqlalchemy\\engine\\base.py:1979\u001b[0m, in \u001b[0;36mConnection._exec_single_context\u001b[1;34m(self, dialect, context, statement, parameters)\u001b[0m\n\u001b[0;32m   1976\u001b[0m     result \u001b[39m=\u001b[39m context\u001b[39m.\u001b[39m_setup_result_proxy()\n\u001b[0;32m   1978\u001b[0m \u001b[39mexcept\u001b[39;00m \u001b[39mBaseException\u001b[39;00m \u001b[39mas\u001b[39;00m e:\n\u001b[1;32m-> 1979\u001b[0m     \u001b[39mself\u001b[39;49m\u001b[39m.\u001b[39;49m_handle_dbapi_exception(\n\u001b[0;32m   1980\u001b[0m         e, str_statement, effective_parameters, cursor, context\n\u001b[0;32m   1981\u001b[0m     )\n\u001b[0;32m   1983\u001b[0m \u001b[39mreturn\u001b[39;00m result\n",
      "File \u001b[1;32mc:\\Users\\agaur8\\AppData\\Local\\Programs\\Python\\Python311\\Lib\\site-packages\\sqlalchemy\\engine\\base.py:2335\u001b[0m, in \u001b[0;36mConnection._handle_dbapi_exception\u001b[1;34m(self, e, statement, parameters, cursor, context, is_sub_exec)\u001b[0m\n\u001b[0;32m   2333\u001b[0m \u001b[39melif\u001b[39;00m should_wrap:\n\u001b[0;32m   2334\u001b[0m     \u001b[39massert\u001b[39;00m sqlalchemy_exception \u001b[39mis\u001b[39;00m \u001b[39mnot\u001b[39;00m \u001b[39mNone\u001b[39;00m\n\u001b[1;32m-> 2335\u001b[0m     \u001b[39mraise\u001b[39;00m sqlalchemy_exception\u001b[39m.\u001b[39mwith_traceback(exc_info[\u001b[39m2\u001b[39m]) \u001b[39mfrom\u001b[39;00m \u001b[39me\u001b[39;00m\n\u001b[0;32m   2336\u001b[0m \u001b[39melse\u001b[39;00m:\n\u001b[0;32m   2337\u001b[0m     \u001b[39massert\u001b[39;00m exc_info[\u001b[39m1\u001b[39m] \u001b[39mis\u001b[39;00m \u001b[39mnot\u001b[39;00m \u001b[39mNone\u001b[39;00m\n",
      "File \u001b[1;32mc:\\Users\\agaur8\\AppData\\Local\\Programs\\Python\\Python311\\Lib\\site-packages\\sqlalchemy\\engine\\base.py:1960\u001b[0m, in \u001b[0;36mConnection._exec_single_context\u001b[1;34m(self, dialect, context, statement, parameters)\u001b[0m\n\u001b[0;32m   1958\u001b[0m                 \u001b[39mbreak\u001b[39;00m\n\u001b[0;32m   1959\u001b[0m     \u001b[39mif\u001b[39;00m \u001b[39mnot\u001b[39;00m evt_handled:\n\u001b[1;32m-> 1960\u001b[0m         \u001b[39mself\u001b[39;49m\u001b[39m.\u001b[39;49mdialect\u001b[39m.\u001b[39;49mdo_execute(\n\u001b[0;32m   1961\u001b[0m             cursor, str_statement, effective_parameters, context\n\u001b[0;32m   1962\u001b[0m         )\n\u001b[0;32m   1964\u001b[0m \u001b[39mif\u001b[39;00m \u001b[39mself\u001b[39m\u001b[39m.\u001b[39m_has_events \u001b[39mor\u001b[39;00m \u001b[39mself\u001b[39m\u001b[39m.\u001b[39mengine\u001b[39m.\u001b[39m_has_events:\n\u001b[0;32m   1965\u001b[0m     \u001b[39mself\u001b[39m\u001b[39m.\u001b[39mdispatch\u001b[39m.\u001b[39mafter_cursor_execute(\n\u001b[0;32m   1966\u001b[0m         \u001b[39mself\u001b[39m,\n\u001b[0;32m   1967\u001b[0m         cursor,\n\u001b[1;32m   (...)\u001b[0m\n\u001b[0;32m   1971\u001b[0m         context\u001b[39m.\u001b[39mexecutemany,\n\u001b[0;32m   1972\u001b[0m     )\n",
      "File \u001b[1;32mc:\\Users\\agaur8\\AppData\\Local\\Programs\\Python\\Python311\\Lib\\site-packages\\sqlalchemy\\engine\\default.py:924\u001b[0m, in \u001b[0;36mDefaultDialect.do_execute\u001b[1;34m(self, cursor, statement, parameters, context)\u001b[0m\n\u001b[0;32m    923\u001b[0m \u001b[39mdef\u001b[39;00m \u001b[39mdo_execute\u001b[39m(\u001b[39mself\u001b[39m, cursor, statement, parameters, context\u001b[39m=\u001b[39m\u001b[39mNone\u001b[39;00m):\n\u001b[1;32m--> 924\u001b[0m     cursor\u001b[39m.\u001b[39mexecute(statement, parameters)\n",
      "\u001b[1;31mOperationalError\u001b[0m: (sqlite3.OperationalError) view model_metrics_view already exists\n[SQL: \nCREATE VIEW model_metrics_view AS\nSELECT\n    MODEL_ID,\n    CASE \n        WHEN \"Model_Type\" IN ('Multi-Class', 'Classification') \n            THEN json_extract(\"Performance_Metrics\", '$[0]')\n    END AS recall,\n    CASE \n        WHEN \"Model_Type\" IN ('Multi-Class', 'Classification') \n            THEN json_extract(\"Performance_Metrics\", '$[1]')\n    END AS precision,\n    CASE \n        WHEN \"Model_Type\" IN ('Multi-Class', 'Classification') \n            THEN json_extract(\"Performance_Metrics\", '$[2]')\n    END AS accuracy,\n    CASE\n        WHEN \"Model_type\" IN (\"Regression\")\n             THEN Performance_Metrics\n    END AS MAE\nFROM\n    models;\n]\n(Background on this error at: https://sqlalche.me/e/20/e3q8)"
     ]
    }
   ],
   "source": [
    "db = SQLDatabase.from_uri(\"sqlite:///dataset.db\")\n",
    "print(db.dialect)\n",
    "print(db.get_usable_table_names())\n",
    "\n",
    "# Define the SQL query for the view\n",
    "view_query = \"\"\"\n",
    "CREATE VIEW model_metrics_view AS\n",
    "SELECT\n",
    "    MODEL_ID,\n",
    "    CASE \n",
    "        WHEN \"Model_Type\" IN ('Multi-Class', 'Classification') \n",
    "            THEN json_extract(\"Performance_Metrics\", '$[0]')\n",
    "    END AS recall,\n",
    "    CASE \n",
    "        WHEN \"Model_Type\" IN ('Multi-Class', 'Classification') \n",
    "            THEN json_extract(\"Performance_Metrics\", '$[1]')\n",
    "    END AS precision,\n",
    "    CASE \n",
    "        WHEN \"Model_Type\" IN ('Multi-Class', 'Classification') \n",
    "            THEN json_extract(\"Performance_Metrics\", '$[2]')\n",
    "    END AS accuracy,\n",
    "    CASE\n",
    "        WHEN \"Model_type\" IN (\"Regression\")\n",
    "             THEN Performance_Metrics\n",
    "    END AS MAE\n",
    "FROM\n",
    "    models;\n",
    "\"\"\"\n",
    "\n",
    "# Execute the query to create the view\n",
    "db.run(view_query)\n"
   ]
  },
  {
   "cell_type": "code",
   "execution_count": null,
   "metadata": {},
   "outputs": [
    {
     "ename": "OperationalError",
     "evalue": "(sqlite3.OperationalError) no such column: MODEL_ID\n[SQL: SELECT * FROM model_metrics_view]\n(Background on this error at: https://sqlalche.me/e/20/e3q8)",
     "output_type": "error",
     "traceback": [
      "\u001b[1;31m---------------------------------------------------------------------------\u001b[0m",
      "\u001b[1;31mOperationalError\u001b[0m                          Traceback (most recent call last)",
      "File \u001b[1;32mc:\\Users\\agaur8\\AppData\\Local\\Programs\\Python\\Python311\\Lib\\site-packages\\sqlalchemy\\engine\\base.py:1960\u001b[0m, in \u001b[0;36mConnection._exec_single_context\u001b[1;34m(self, dialect, context, statement, parameters)\u001b[0m\n\u001b[0;32m   1959\u001b[0m     \u001b[39mif\u001b[39;00m \u001b[39mnot\u001b[39;00m evt_handled:\n\u001b[1;32m-> 1960\u001b[0m         \u001b[39mself\u001b[39;49m\u001b[39m.\u001b[39;49mdialect\u001b[39m.\u001b[39;49mdo_execute(\n\u001b[0;32m   1961\u001b[0m             cursor, str_statement, effective_parameters, context\n\u001b[0;32m   1962\u001b[0m         )\n\u001b[0;32m   1964\u001b[0m \u001b[39mif\u001b[39;00m \u001b[39mself\u001b[39m\u001b[39m.\u001b[39m_has_events \u001b[39mor\u001b[39;00m \u001b[39mself\u001b[39m\u001b[39m.\u001b[39mengine\u001b[39m.\u001b[39m_has_events:\n",
      "File \u001b[1;32mc:\\Users\\agaur8\\AppData\\Local\\Programs\\Python\\Python311\\Lib\\site-packages\\sqlalchemy\\engine\\default.py:924\u001b[0m, in \u001b[0;36mDefaultDialect.do_execute\u001b[1;34m(self, cursor, statement, parameters, context)\u001b[0m\n\u001b[0;32m    923\u001b[0m \u001b[39mdef\u001b[39;00m \u001b[39mdo_execute\u001b[39m(\u001b[39mself\u001b[39m, cursor, statement, parameters, context\u001b[39m=\u001b[39m\u001b[39mNone\u001b[39;00m):\n\u001b[1;32m--> 924\u001b[0m     cursor\u001b[39m.\u001b[39mexecute(statement, parameters)\n",
      "\u001b[1;31mOperationalError\u001b[0m: no such column: MODEL_ID",
      "\nThe above exception was the direct cause of the following exception:\n",
      "\u001b[1;31mOperationalError\u001b[0m                          Traceback (most recent call last)",
      "Cell \u001b[1;32mIn[15], line 1\u001b[0m\n\u001b[1;32m----> 1\u001b[0m db\u001b[39m.\u001b[39;49mrun(\u001b[39m'\u001b[39;49m\u001b[39mSELECT * FROM model_metrics_view\u001b[39;49m\u001b[39m'\u001b[39;49m)\n",
      "File \u001b[1;32mc:\\Users\\agaur8\\AppData\\Local\\Programs\\Python\\Python311\\Lib\\site-packages\\langchain_community\\utilities\\sql_database.py:498\u001b[0m, in \u001b[0;36mSQLDatabase.run\u001b[1;34m(self, command, fetch, include_columns, parameters, execution_options)\u001b[0m\n\u001b[0;32m    484\u001b[0m \u001b[39mdef\u001b[39;00m \u001b[39mrun\u001b[39m(\n\u001b[0;32m    485\u001b[0m     \u001b[39mself\u001b[39m,\n\u001b[0;32m    486\u001b[0m     command: Union[\u001b[39mstr\u001b[39m, Executable],\n\u001b[1;32m   (...)\u001b[0m\n\u001b[0;32m    491\u001b[0m     execution_options: Optional[Dict[\u001b[39mstr\u001b[39m, Any]] \u001b[39m=\u001b[39m \u001b[39mNone\u001b[39;00m,\n\u001b[0;32m    492\u001b[0m ) \u001b[39m-\u001b[39m\u001b[39m>\u001b[39m Union[\u001b[39mstr\u001b[39m, Sequence[Dict[\u001b[39mstr\u001b[39m, Any]], Result[Any]]:\n\u001b[0;32m    493\u001b[0m \u001b[39m    \u001b[39m\u001b[39m\"\"\"Execute a SQL command and return a string representing the results.\u001b[39;00m\n\u001b[0;32m    494\u001b[0m \n\u001b[0;32m    495\u001b[0m \u001b[39m    If the statement returns rows, a string of the results is returned.\u001b[39;00m\n\u001b[0;32m    496\u001b[0m \u001b[39m    If the statement returns no rows, an empty string is returned.\u001b[39;00m\n\u001b[0;32m    497\u001b[0m \u001b[39m    \"\"\"\u001b[39;00m\n\u001b[1;32m--> 498\u001b[0m     result \u001b[39m=\u001b[39m \u001b[39mself\u001b[39;49m\u001b[39m.\u001b[39;49m_execute(\n\u001b[0;32m    499\u001b[0m         command, fetch, parameters\u001b[39m=\u001b[39;49mparameters, execution_options\u001b[39m=\u001b[39;49mexecution_options\n\u001b[0;32m    500\u001b[0m     )\n\u001b[0;32m    502\u001b[0m     \u001b[39mif\u001b[39;00m fetch \u001b[39m==\u001b[39m \u001b[39m\"\u001b[39m\u001b[39mcursor\u001b[39m\u001b[39m\"\u001b[39m:\n\u001b[0;32m    503\u001b[0m         \u001b[39mreturn\u001b[39;00m result\n",
      "File \u001b[1;32mc:\\Users\\agaur8\\AppData\\Local\\Programs\\Python\\Python311\\Lib\\site-packages\\langchain_community\\utilities\\sql_database.py:463\u001b[0m, in \u001b[0;36mSQLDatabase._execute\u001b[1;34m(self, command, fetch, parameters, execution_options)\u001b[0m\n\u001b[0;32m    461\u001b[0m \u001b[39melse\u001b[39;00m:\n\u001b[0;32m    462\u001b[0m     \u001b[39mraise\u001b[39;00m \u001b[39mTypeError\u001b[39;00m(\u001b[39mf\u001b[39m\u001b[39m\"\u001b[39m\u001b[39mQuery expression has unknown type: \u001b[39m\u001b[39m{\u001b[39;00m\u001b[39mtype\u001b[39m(command)\u001b[39m}\u001b[39;00m\u001b[39m\"\u001b[39m)\n\u001b[1;32m--> 463\u001b[0m cursor \u001b[39m=\u001b[39m connection\u001b[39m.\u001b[39;49mexecute(\n\u001b[0;32m    464\u001b[0m     command,\n\u001b[0;32m    465\u001b[0m     parameters,\n\u001b[0;32m    466\u001b[0m     execution_options\u001b[39m=\u001b[39;49mexecution_options,\n\u001b[0;32m    467\u001b[0m )\n\u001b[0;32m    469\u001b[0m \u001b[39mif\u001b[39;00m cursor\u001b[39m.\u001b[39mreturns_rows:\n\u001b[0;32m    470\u001b[0m     \u001b[39mif\u001b[39;00m fetch \u001b[39m==\u001b[39m \u001b[39m\"\u001b[39m\u001b[39mall\u001b[39m\u001b[39m\"\u001b[39m:\n",
      "File \u001b[1;32mc:\\Users\\agaur8\\AppData\\Local\\Programs\\Python\\Python311\\Lib\\site-packages\\sqlalchemy\\engine\\base.py:1408\u001b[0m, in \u001b[0;36mConnection.execute\u001b[1;34m(self, statement, parameters, execution_options)\u001b[0m\n\u001b[0;32m   1406\u001b[0m     \u001b[39mraise\u001b[39;00m exc\u001b[39m.\u001b[39mObjectNotExecutableError(statement) \u001b[39mfrom\u001b[39;00m \u001b[39merr\u001b[39;00m\n\u001b[0;32m   1407\u001b[0m \u001b[39melse\u001b[39;00m:\n\u001b[1;32m-> 1408\u001b[0m     \u001b[39mreturn\u001b[39;00m meth(\n\u001b[0;32m   1409\u001b[0m         \u001b[39mself\u001b[39;49m,\n\u001b[0;32m   1410\u001b[0m         distilled_parameters,\n\u001b[0;32m   1411\u001b[0m         execution_options \u001b[39mor\u001b[39;49;00m NO_OPTIONS,\n\u001b[0;32m   1412\u001b[0m     )\n",
      "File \u001b[1;32mc:\\Users\\agaur8\\AppData\\Local\\Programs\\Python\\Python311\\Lib\\site-packages\\sqlalchemy\\sql\\elements.py:513\u001b[0m, in \u001b[0;36mClauseElement._execute_on_connection\u001b[1;34m(self, connection, distilled_params, execution_options)\u001b[0m\n\u001b[0;32m    511\u001b[0m     \u001b[39mif\u001b[39;00m TYPE_CHECKING:\n\u001b[0;32m    512\u001b[0m         \u001b[39massert\u001b[39;00m \u001b[39misinstance\u001b[39m(\u001b[39mself\u001b[39m, Executable)\n\u001b[1;32m--> 513\u001b[0m     \u001b[39mreturn\u001b[39;00m connection\u001b[39m.\u001b[39;49m_execute_clauseelement(\n\u001b[0;32m    514\u001b[0m         \u001b[39mself\u001b[39;49m, distilled_params, execution_options\n\u001b[0;32m    515\u001b[0m     )\n\u001b[0;32m    516\u001b[0m \u001b[39melse\u001b[39;00m:\n\u001b[0;32m    517\u001b[0m     \u001b[39mraise\u001b[39;00m exc\u001b[39m.\u001b[39mObjectNotExecutableError(\u001b[39mself\u001b[39m)\n",
      "File \u001b[1;32mc:\\Users\\agaur8\\AppData\\Local\\Programs\\Python\\Python311\\Lib\\site-packages\\sqlalchemy\\engine\\base.py:1630\u001b[0m, in \u001b[0;36mConnection._execute_clauseelement\u001b[1;34m(self, elem, distilled_parameters, execution_options)\u001b[0m\n\u001b[0;32m   1618\u001b[0m compiled_cache: Optional[CompiledCacheType] \u001b[39m=\u001b[39m execution_options\u001b[39m.\u001b[39mget(\n\u001b[0;32m   1619\u001b[0m     \u001b[39m\"\u001b[39m\u001b[39mcompiled_cache\u001b[39m\u001b[39m\"\u001b[39m, \u001b[39mself\u001b[39m\u001b[39m.\u001b[39mengine\u001b[39m.\u001b[39m_compiled_cache\n\u001b[0;32m   1620\u001b[0m )\n\u001b[0;32m   1622\u001b[0m compiled_sql, extracted_params, cache_hit \u001b[39m=\u001b[39m elem\u001b[39m.\u001b[39m_compile_w_cache(\n\u001b[0;32m   1623\u001b[0m     dialect\u001b[39m=\u001b[39mdialect,\n\u001b[0;32m   1624\u001b[0m     compiled_cache\u001b[39m=\u001b[39mcompiled_cache,\n\u001b[1;32m   (...)\u001b[0m\n\u001b[0;32m   1628\u001b[0m     linting\u001b[39m=\u001b[39m\u001b[39mself\u001b[39m\u001b[39m.\u001b[39mdialect\u001b[39m.\u001b[39mcompiler_linting \u001b[39m|\u001b[39m compiler\u001b[39m.\u001b[39mWARN_LINTING,\n\u001b[0;32m   1629\u001b[0m )\n\u001b[1;32m-> 1630\u001b[0m ret \u001b[39m=\u001b[39m \u001b[39mself\u001b[39;49m\u001b[39m.\u001b[39;49m_execute_context(\n\u001b[0;32m   1631\u001b[0m     dialect,\n\u001b[0;32m   1632\u001b[0m     dialect\u001b[39m.\u001b[39;49mexecution_ctx_cls\u001b[39m.\u001b[39;49m_init_compiled,\n\u001b[0;32m   1633\u001b[0m     compiled_sql,\n\u001b[0;32m   1634\u001b[0m     distilled_parameters,\n\u001b[0;32m   1635\u001b[0m     execution_options,\n\u001b[0;32m   1636\u001b[0m     compiled_sql,\n\u001b[0;32m   1637\u001b[0m     distilled_parameters,\n\u001b[0;32m   1638\u001b[0m     elem,\n\u001b[0;32m   1639\u001b[0m     extracted_params,\n\u001b[0;32m   1640\u001b[0m     cache_hit\u001b[39m=\u001b[39;49mcache_hit,\n\u001b[0;32m   1641\u001b[0m )\n\u001b[0;32m   1642\u001b[0m \u001b[39mif\u001b[39;00m has_events:\n\u001b[0;32m   1643\u001b[0m     \u001b[39mself\u001b[39m\u001b[39m.\u001b[39mdispatch\u001b[39m.\u001b[39mafter_execute(\n\u001b[0;32m   1644\u001b[0m         \u001b[39mself\u001b[39m,\n\u001b[0;32m   1645\u001b[0m         elem,\n\u001b[1;32m   (...)\u001b[0m\n\u001b[0;32m   1649\u001b[0m         ret,\n\u001b[0;32m   1650\u001b[0m     )\n",
      "File \u001b[1;32mc:\\Users\\agaur8\\AppData\\Local\\Programs\\Python\\Python311\\Lib\\site-packages\\sqlalchemy\\engine\\base.py:1839\u001b[0m, in \u001b[0;36mConnection._execute_context\u001b[1;34m(self, dialect, constructor, statement, parameters, execution_options, *args, **kw)\u001b[0m\n\u001b[0;32m   1834\u001b[0m     \u001b[39mreturn\u001b[39;00m \u001b[39mself\u001b[39m\u001b[39m.\u001b[39m_exec_insertmany_context(\n\u001b[0;32m   1835\u001b[0m         dialect,\n\u001b[0;32m   1836\u001b[0m         context,\n\u001b[0;32m   1837\u001b[0m     )\n\u001b[0;32m   1838\u001b[0m \u001b[39melse\u001b[39;00m:\n\u001b[1;32m-> 1839\u001b[0m     \u001b[39mreturn\u001b[39;00m \u001b[39mself\u001b[39;49m\u001b[39m.\u001b[39;49m_exec_single_context(\n\u001b[0;32m   1840\u001b[0m         dialect, context, statement, parameters\n\u001b[0;32m   1841\u001b[0m     )\n",
      "File \u001b[1;32mc:\\Users\\agaur8\\AppData\\Local\\Programs\\Python\\Python311\\Lib\\site-packages\\sqlalchemy\\engine\\base.py:1979\u001b[0m, in \u001b[0;36mConnection._exec_single_context\u001b[1;34m(self, dialect, context, statement, parameters)\u001b[0m\n\u001b[0;32m   1976\u001b[0m     result \u001b[39m=\u001b[39m context\u001b[39m.\u001b[39m_setup_result_proxy()\n\u001b[0;32m   1978\u001b[0m \u001b[39mexcept\u001b[39;00m \u001b[39mBaseException\u001b[39;00m \u001b[39mas\u001b[39;00m e:\n\u001b[1;32m-> 1979\u001b[0m     \u001b[39mself\u001b[39;49m\u001b[39m.\u001b[39;49m_handle_dbapi_exception(\n\u001b[0;32m   1980\u001b[0m         e, str_statement, effective_parameters, cursor, context\n\u001b[0;32m   1981\u001b[0m     )\n\u001b[0;32m   1983\u001b[0m \u001b[39mreturn\u001b[39;00m result\n",
      "File \u001b[1;32mc:\\Users\\agaur8\\AppData\\Local\\Programs\\Python\\Python311\\Lib\\site-packages\\sqlalchemy\\engine\\base.py:2335\u001b[0m, in \u001b[0;36mConnection._handle_dbapi_exception\u001b[1;34m(self, e, statement, parameters, cursor, context, is_sub_exec)\u001b[0m\n\u001b[0;32m   2333\u001b[0m \u001b[39melif\u001b[39;00m should_wrap:\n\u001b[0;32m   2334\u001b[0m     \u001b[39massert\u001b[39;00m sqlalchemy_exception \u001b[39mis\u001b[39;00m \u001b[39mnot\u001b[39;00m \u001b[39mNone\u001b[39;00m\n\u001b[1;32m-> 2335\u001b[0m     \u001b[39mraise\u001b[39;00m sqlalchemy_exception\u001b[39m.\u001b[39mwith_traceback(exc_info[\u001b[39m2\u001b[39m]) \u001b[39mfrom\u001b[39;00m \u001b[39me\u001b[39;00m\n\u001b[0;32m   2336\u001b[0m \u001b[39melse\u001b[39;00m:\n\u001b[0;32m   2337\u001b[0m     \u001b[39massert\u001b[39;00m exc_info[\u001b[39m1\u001b[39m] \u001b[39mis\u001b[39;00m \u001b[39mnot\u001b[39;00m \u001b[39mNone\u001b[39;00m\n",
      "File \u001b[1;32mc:\\Users\\agaur8\\AppData\\Local\\Programs\\Python\\Python311\\Lib\\site-packages\\sqlalchemy\\engine\\base.py:1960\u001b[0m, in \u001b[0;36mConnection._exec_single_context\u001b[1;34m(self, dialect, context, statement, parameters)\u001b[0m\n\u001b[0;32m   1958\u001b[0m                 \u001b[39mbreak\u001b[39;00m\n\u001b[0;32m   1959\u001b[0m     \u001b[39mif\u001b[39;00m \u001b[39mnot\u001b[39;00m evt_handled:\n\u001b[1;32m-> 1960\u001b[0m         \u001b[39mself\u001b[39;49m\u001b[39m.\u001b[39;49mdialect\u001b[39m.\u001b[39;49mdo_execute(\n\u001b[0;32m   1961\u001b[0m             cursor, str_statement, effective_parameters, context\n\u001b[0;32m   1962\u001b[0m         )\n\u001b[0;32m   1964\u001b[0m \u001b[39mif\u001b[39;00m \u001b[39mself\u001b[39m\u001b[39m.\u001b[39m_has_events \u001b[39mor\u001b[39;00m \u001b[39mself\u001b[39m\u001b[39m.\u001b[39mengine\u001b[39m.\u001b[39m_has_events:\n\u001b[0;32m   1965\u001b[0m     \u001b[39mself\u001b[39m\u001b[39m.\u001b[39mdispatch\u001b[39m.\u001b[39mafter_cursor_execute(\n\u001b[0;32m   1966\u001b[0m         \u001b[39mself\u001b[39m,\n\u001b[0;32m   1967\u001b[0m         cursor,\n\u001b[1;32m   (...)\u001b[0m\n\u001b[0;32m   1971\u001b[0m         context\u001b[39m.\u001b[39mexecutemany,\n\u001b[0;32m   1972\u001b[0m     )\n",
      "File \u001b[1;32mc:\\Users\\agaur8\\AppData\\Local\\Programs\\Python\\Python311\\Lib\\site-packages\\sqlalchemy\\engine\\default.py:924\u001b[0m, in \u001b[0;36mDefaultDialect.do_execute\u001b[1;34m(self, cursor, statement, parameters, context)\u001b[0m\n\u001b[0;32m    923\u001b[0m \u001b[39mdef\u001b[39;00m \u001b[39mdo_execute\u001b[39m(\u001b[39mself\u001b[39m, cursor, statement, parameters, context\u001b[39m=\u001b[39m\u001b[39mNone\u001b[39;00m):\n\u001b[1;32m--> 924\u001b[0m     cursor\u001b[39m.\u001b[39mexecute(statement, parameters)\n",
      "\u001b[1;31mOperationalError\u001b[0m: (sqlite3.OperationalError) no such column: MODEL_ID\n[SQL: SELECT * FROM model_metrics_view]\n(Background on this error at: https://sqlalche.me/e/20/e3q8)"
     ]
    }
   ],
   "source": [
    "db.run('SELECT * FROM model_metrics_view')"
   ]
  },
  {
   "cell_type": "code",
   "execution_count": null,
   "metadata": {},
   "outputs": [],
   "source": [
    "# Updated SQL Prompt\n",
    "SQl_prompt_updated = PromptTemplate.from_template(\n",
    "    \"\"\"You are a SQLite expert and Machine Learning Engineer. Given an input question, create a syntactically correct SQLite query to run, to answer the input question.\n",
    "\n",
    "    **Important:** \n",
    "    * For questions about detailed performance metrics (accuracy, MAE, recall, precision), **YOU MUST** JOIN the 'models' table with the 'model_metrics_view' (which contains structured performance data) on the MODEL_ID column and **USE ONLY** columns in 'model_metrics_view' to get accuracy, recall, MAE and precsion and also add a WHERE condition based on the model_type .\n",
    "    * **YOU MUST check if the model type first based on that as a ML engineer analyse which metric is suitable**\n",
    "       * Regression models: Use MAE from model_metrics_view\n",
    "       * Classification models: Use accuracy, precision, recall from model_metrics_view.\n",
    "    * If the question might yield multiple results, ensure your query returns ALL relevant entries.  Only limit output if the user explicitly asks for a 'best' result.\n",
    "    * Remember, your query should aim to answer the question with a single SQL statement and limit the results appropriately. You can order the results to return the most informative data in the database.\n",
    "    * **Check Data Availability:** Before providing a final response, ensure that the data referred to in the query (Model_Name, date, company) likely exists in the database. If potential issues are detected, indicate the problem and suggest alternatives for the user instead of executing the query.\n",
    "    **Before Execution:** Double-check your query for errors. Is the JOIN with 'model_metrics_view' used when appropriate?  Does the query structure seem likely to return the correct number of results? If you identify any potential issues, rewrite the query and rerun the corrected query. \n",
    "\n",
    "**Important:** Pay close attention to relationships between tables and views.  JOIN tables using appropriate conditions.  \n",
    "\n",
    "    **Schema Summary:**\n",
    "    * models table: MODEL_ID, Model_Name, Model_Type, ... \n",
    "    * model_metrics_view: MODEL_ID, recall, precision, accuracy, MAE\n",
    "\n",
    "    **Example:**  \n",
    "    Question: Which models have recall greater than 0.9?\n",
    "    SELECT Model_Name \n",
    "         FROM models \n",
    "         JOIN model_metrics_view ON models.MODEL_ID = model_metrics_view.MODEL_ID\n",
    "         WHERE Model_type IN ('Multi-Class', 'Classification') and accuracy > 0.9;\n",
    "    \n",
    "    Question: What is the accuracy of Model 10?\n",
    "     SELECT accuracy \n",
    "         FROM models \n",
    "         JOIN model_metrics_view ON models.MODEL_ID = model_metrics_view.MODEL_ID\n",
    "         WHERE lower(Model_Name) = 'model 10' and Model_type IN ('Multi-Class', 'Classification');\n",
    "    Answer: Model 10 is a Regression model type so it accuracy is not the right metric to calculate performace of the model\n",
    "\n",
    "    Question: What is the volume of Model A in CCC company ?\n",
    "    SELECT Daily_Volume \n",
    "         FROM models \n",
    "         WHERE lower(Model_Name) = 'model a' and lower(Company_Name) == 'ccc';\n",
    "    Answer: It seems there is no model named 'Model A' and no company called CCC in the database.  Can you please try with a different model and company name?\n",
    "    \n",
    "    Only use the following tables: {table_info}.\n",
    "    Question: {input}.\n",
    "    Generate up to {top_k} SQL queries to answer the question.\n",
    "    \"\"\"\n",
    ")\n",
    "\n",
    "# Prompt to answer the questions\n",
    "answer_prompt = PromptTemplate.from_template(\n",
    "    \"\"\"Given the following user question, corresponding SQL query, and SQL result, answer the user question in conversational tone.\n",
    "      If the SQL result is empty, provide a helpful message indicating that no matching data was found.  \n",
    "\n",
    "Question: {question}\n",
    "SQL Query: {query}\n",
    "SQL Result: {result}\n",
    "Answer: \"\"\"\n",
    ")\n"
   ]
  },
  {
   "cell_type": "code",
   "execution_count": null,
   "metadata": {},
   "outputs": [],
   "source": [
    "# Initialize Chain 1: Generate SQL Query\n",
    "generate_sql_chain = create_sql_query_chain(prompt=SQl_prompt_updated, llm=llm, db=db)\n",
    "\n",
    "# Initialize Chain 2: Execute SQL Query and generate structured answer\n",
    "execute_sql_chain = answer_prompt | llm | StrOutputParser()\n",
    "\n",
    "\n",
    "def execute_combined_chain(question):\n",
    "    # Step 1: Generate SQL Query\n",
    "    sql_query = generate_sql_chain.invoke({\"question\": question, \"top_k\": 1})\n",
    "    \n",
    "    # Step 2: Execute the SQL Query to get the result\n",
    "    sql_result = execute_query(sql_query)  # Ensure this returns the result of executing the SQL query\n",
    "    \n",
    "    # Step 3: Pass the necessary inputs to the final chain and format the output to include both SQL query and result\n",
    "    final_response = execute_sql_chain.invoke({\"question\": question, \"query\": sql_query, \"result\": sql_result})\n",
    "    \n",
    "    # Format the final answer to include both the SQL query and its result\n",
    "    final_answer = f\"SQL Query: {sql_query}\\n Answer: {final_response}\"\n",
    "    return final_answer\n"
   ]
  },
  {
   "cell_type": "code",
   "execution_count": null,
   "metadata": {},
   "outputs": [
    {
     "name": "stdout",
     "output_type": "stream",
     "text": [
      "SQL Query: SELECT Model_Version, Model_Type, recall, precision, accuracy, MAE \n",
      "FROM models \n",
      "JOIN model_metrics_view ON models.MODEL_ID = model_metrics_view.MODEL_ID\n",
      "WHERE lower(Model_Name) = 'model 1' \n",
      "AND Date BETWEEN '2022-01-01' AND '2023-12-31'\n",
      "ORDER BY CASE \n",
      "    WHEN Model_Type IN ('Multi-Class', 'Classification') THEN accuracy \n",
      "    WHEN Model_Type = 'Regression' THEN MAE \n",
      "    END DESC \n",
      "LIMIT 1;\n",
      " Answer: I'm sorry, but I couldn't find any data on the optimal version of Model 1 in production between 2022 and 2023. It's possible that the model wasn't in production during that timeframe or there's no recorded data for that period.\n"
     ]
    }
   ],
   "source": [
    "# Example invocation\n",
    "question = \"During the timeframe between dates 2022 and 2023, what represents the optimal version of Model 1 in production with regards to model performance?\"\n",
    "final_answer = execute_combined_chain(question)\n",
    "print(final_answer)"
   ]
  },
  {
   "cell_type": "code",
   "execution_count": null,
   "metadata": {},
   "outputs": [],
   "source": [
    "\"Which model in production has the best performance for Nationwide?\"\n",
    "\"Accuracy of model 10\"\n",
    "\"Which model would you sugest for nationwide\"\n",
    "\"which model version is better in each model\" ## error\n",
    "\"give company wise best performing model\""
   ]
  }
 ],
 "metadata": {
  "kernelspec": {
   "display_name": "myenv",
   "language": "python",
   "name": "python3"
  },
  "language_info": {
   "codemirror_mode": {
    "name": "ipython",
    "version": 3
   },
   "file_extension": ".py",
   "mimetype": "text/x-python",
   "name": "python",
   "nbconvert_exporter": "python",
   "pygments_lexer": "ipython3",
   "version": "3.11.2"
  }
 },
 "nbformat": 4,
 "nbformat_minor": 2
}
